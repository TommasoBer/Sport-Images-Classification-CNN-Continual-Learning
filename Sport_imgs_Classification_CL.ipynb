{
  "cells": [
    {
      "cell_type": "markdown",
      "metadata": {
        "id": "sdnnRxTNdyW1"
      },
      "source": [
        "# Neural Networks for Data Science Applications\n",
        "## Experimenting with continual learning\n"
      ]
    },
    {
      "cell_type": "code",
      "execution_count": null,
      "metadata": {
        "id": "PEr8qV6-nMuL"
      },
      "outputs": [],
      "source": [
        "import tensorflow as tf\n",
        "import tensorflow_datasets as tfds\n",
        "import matplotlib.pyplot as plt\n",
        "\n",
        "from tensorflow.keras import Model\n",
        "from tensorflow.keras import regularizers\n",
        "from tensorflow.keras import layers\n",
        "\n",
        "import pandas as pd\n",
        "import numpy as np\n",
        "from tensorflow.keras import losses, optimizers, metrics, callbacks\n"
      ]
    },
    {
      "cell_type": "code",
      "execution_count": null,
      "metadata": {
        "colab": {
          "base_uri": "https://localhost:8080/",
          "height": 35
        },
        "id": "fuWticijL_WL",
        "outputId": "debf37d2-0922-4457-d8f6-37648ab8088c"
      },
      "outputs": [
        {
          "output_type": "execute_result",
          "data": {
            "text/plain": [
              "'/device:GPU:0'"
            ],
            "application/vnd.google.colaboratory.intrinsic+json": {
              "type": "string"
            }
          },
          "metadata": {},
          "execution_count": 2
        }
      ],
      "source": [
        "import tensorflow as tf\n",
        "tf.test.gpu_device_name()"
      ]
    },
    {
      "cell_type": "markdown",
      "metadata": {
        "id": "VcVuEAmGBfDt"
      },
      "source": [
        "**DESCRIPTION OF THE CODE**\n",
        "\n",
        "The dataset with which this project will be developed was taken from Kaggle, uploading it directly to Colab for the first part, and then going local first (for some modifications) and then on the drive, for the Continual Learning part.\n",
        "\n",
        "Link to the data: [https://www.kaggle.com/gpiosenka/sports-classification](https://www.kaggle.com/gpiosenka/sports-classification)\n",
        "\n",
        "The dataset contains images of 100 different sports and can be used for an image classification problem. The size of the images is 256x256 pixels with 3 channels. It is a pretty clean dataset and it is possible to reach models with 95 - 98 % accuracy according to the description. There are no bad images or duplications and it is already splitted in train, test and validation sets. ( A bit unbalanced in favour of training set).\n"
      ]
    },
    {
      "cell_type": "code",
      "source": [
        ""
      ],
      "metadata": {
        "id": "I653OnS2nLIV"
      },
      "execution_count": null,
      "outputs": []
    },
    {
      "cell_type": "markdown",
      "source": [
        "### Part 1: Convolutional Neural Network for Image Classification"
      ],
      "metadata": {
        "id": "P632viuenLZj"
      }
    },
    {
      "cell_type": "markdown",
      "metadata": {
        "id": "SkFBs91nkZm7"
      },
      "source": [
        "#### Import the dataset"
      ]
    },
    {
      "cell_type": "code",
      "execution_count": null,
      "metadata": {
        "colab": {
          "base_uri": "https://localhost:8080/",
          "height": 91,
          "resources": {
            "http://localhost:8080/nbextensions/google.colab/files.js": {
              "data": "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",
              "headers": [
                [
                  "content-type",
                  "application/javascript"
                ]
              ],
              "ok": true,
              "status": 200,
              "status_text": ""
            }
          }
        },
        "id": "jBi9aawRbTnW",
        "outputId": "e8d7035c-07ba-4922-9228-ff1c8e64dd18"
      },
      "outputs": [
        {
          "data": {
            "text/html": [
              "\n",
              "     <input type=\"file\" id=\"files-2975e911-2caa-445e-a1ee-2ec1832f3966\" name=\"files[]\" multiple disabled\n",
              "        style=\"border:none\" />\n",
              "     <output id=\"result-2975e911-2caa-445e-a1ee-2ec1832f3966\">\n",
              "      Upload widget is only available when the cell has been executed in the\n",
              "      current browser session. Please rerun this cell to enable.\n",
              "      </output>\n",
              "      <script src=\"/nbextensions/google.colab/files.js\"></script> "
            ],
            "text/plain": [
              "<IPython.core.display.HTML object>"
            ]
          },
          "metadata": {},
          "output_type": "display_data"
        },
        {
          "name": "stdout",
          "output_type": "stream",
          "text": [
            "Saving kaggle.json to kaggle.json\n",
            "User uploaded file \"kaggle.json\" with length 73 bytes\n"
          ]
        }
      ],
      "source": [
        "from google.colab import files\n",
        "\n",
        "uploaded = files.upload()\n",
        "\n",
        "for fn in uploaded.keys():\n",
        "  print('User uploaded file \"{name}\" with length {length} bytes'.format(\n",
        "      name=fn, length=len(uploaded[fn])))\n",
        "  \n",
        "# Then move kaggle.json into the folder where the API expects to find it.\n",
        "!mkdir -p ~/.kaggle/ && mv kaggle.json ~/.kaggle/ && chmod 600 ~/.kaggle/kaggle.json"
      ]
    },
    {
      "cell_type": "code",
      "execution_count": null,
      "metadata": {
        "id": "xmPfkhLMb4Nw"
      },
      "outputs": [],
      "source": [
        "# Download the dataset from Kaggle directly (Output cancelled for clearness in the code)\n",
        "!kaggle datasets download -d gpiosenka/sports-classification "
      ]
    },
    {
      "cell_type": "code",
      "execution_count": null,
      "metadata": {
        "id": "POfsSOy_cWj_"
      },
      "outputs": [],
      "source": [
        "# Unfip the folders (Output cancelled for clearness in the code)\n",
        "!unzip sports-classification.zip"
      ]
    },
    {
      "cell_type": "code",
      "execution_count": null,
      "metadata": {
        "colab": {
          "base_uri": "https://localhost:8080/"
        },
        "id": "DfCpFg2xdug_",
        "outputId": "8f860f63-98be-457f-a4e2-7f0e1b800e35"
      },
      "outputs": [
        {
          "name": "stdout",
          "output_type": "stream",
          "text": [
            "Found 13572 files belonging to 100 classes.\n",
            "Found 500 files belonging to 100 classes.\n",
            "Found 500 files belonging to 100 classes.\n"
          ]
        }
      ],
      "source": [
        "# Insert any data loading code here. If the data loading part is complex,\n",
        "# consider using a separate .py file that you can attach to the submission.\n",
        "\n",
        "#Load the data and infer directly the class of images from the name of directory + automathic map with integers\n",
        "\n",
        "df_train = tf.keras.utils.image_dataset_from_directory('/content/train', labels='inferred', batch_size=32) #we already import images with batch size = 32 by defalut\n",
        "df_val = tf.keras.utils.image_dataset_from_directory('/content/valid', labels='inferred',batch_size=32)\n",
        "df_test = tf.keras.utils.image_dataset_from_directory('/content/test', labels='inferred',batch_size=32)"
      ]
    },
    {
      "cell_type": "code",
      "execution_count": null,
      "metadata": {
        "colab": {
          "base_uri": "https://localhost:8080/"
        },
        "id": "DXNfSpBn7L7D",
        "outputId": "8ba5c8ed-8078-4434-cac5-14b0b1c5b532"
      },
      "outputs": [
        {
          "name": "stdout",
          "output_type": "stream",
          "text": [
            "This is the total number of batches (size 32) in the train_set:  425\n"
          ]
        }
      ],
      "source": [
        "print('This is the total number of batches (size 32) in the train_set: ', len(df_train))"
      ]
    },
    {
      "cell_type": "code",
      "execution_count": null,
      "metadata": {
        "colab": {
          "base_uri": "https://localhost:8080/",
          "height": 265
        },
        "id": "PtxegOzHfk1H",
        "outputId": "422432dc-0323-45a4-994b-2844decf1f01"
      },
      "outputs": [
        {
          "data": {
            "image/png": "[encoded data removed]",
            "text/plain": [
              "<Figure size 432x288 with 1 Axes>"
            ]
          },
          "metadata": {},
          "output_type": "display_data"
        }
      ],
      "source": [
        "#Check how balanced are the classes in the trainset\n",
        "\n",
        "_tot = []\n",
        "y_tot = []\n",
        "for i in range(0,100): #Just check 100 batches\n",
        "\n",
        "  _, y = next(iter(df_train))\n",
        "  _tot.append(_)\n",
        "  y_tot.append(y)\n",
        "\n",
        "flat_list_x = [item for sublist in _tot for item in sublist]\n",
        "flat_list_y = [item for sublist in y_tot for item in sublist]\n",
        "\n",
        "flat_list_x = plt.hist(flat_list_y)"
      ]
    },
    {
      "cell_type": "markdown",
      "metadata": {
        "id": "hXVVZq2Q7E52"
      },
      "source": [
        "The classes looks pretty balanced"
      ]
    },
    {
      "cell_type": "markdown",
      "metadata": {
        "id": "4LpPFOB-7fDT"
      },
      "source": [
        "\n",
        "#### Let's define some function in order to preprocess the data"
      ]
    },
    {
      "cell_type": "code",
      "execution_count": null,
      "metadata": {
        "id": "Vn_t-kFf2rUJ"
      },
      "outputs": [],
      "source": [
        "#Casting of the variables\n",
        "\n",
        "def preprocess(x, y):\n",
        "  return tf.cast(x, tf.float32) / 255.0, y"
      ]
    },
    {
      "cell_type": "code",
      "execution_count": null,
      "metadata": {
        "id": "yPwdne4e2rW6"
      },
      "outputs": [],
      "source": [
        "#Augmentation to improve the numbers of data point and make a more robust model\n",
        "\n",
        "def augment(x, y):\n",
        "  x = tf.image.random_brightness(x, 0.1)\n",
        "  x = tf.image.random_flip_left_right(x)\n",
        "  #x = tf.image.random_flip_up_down (x) ...we could add more to improve accuracy and mak the model more robust\n",
        "  return x, y"
      ]
    },
    {
      "cell_type": "code",
      "execution_count": null,
      "metadata": {
        "id": "C4PyvMXQ2rZo"
      },
      "outputs": [],
      "source": [
        "#Apply pre-precession to the data\n",
        "\n",
        "df_train_it = \\\n",
        "  df_train.map(preprocess).shuffle(1000).take(340).map(augment).prefetch(tf.data.AUTOTUNE) #We choose 340 for memory limits \n",
        "df_val_it = \\\n",
        "  df_val.map(preprocess).prefetch(tf.data.AUTOTUNE)\n",
        "df_test_it = \\\n",
        "  df_test.map(preprocess).prefetch(tf.data.AUTOTUNE)"
      ]
    },
    {
      "cell_type": "code",
      "execution_count": null,
      "metadata": {
        "colab": {
          "base_uri": "https://localhost:8080/"
        },
        "id": "KifO1fu2eSmC",
        "outputId": "1a1efc57-e635-4780-e206-90e0daf36fe0"
      },
      "outputs": [
        {
          "data": {
            "text/plain": [
              "340"
            ]
          },
          "execution_count": 11,
          "metadata": {},
          "output_type": "execute_result"
        }
      ],
      "source": [
        "len(df_train_it)"
      ]
    },
    {
      "cell_type": "code",
      "execution_count": null,
      "metadata": {
        "colab": {
          "base_uri": "https://localhost:8080/"
        },
        "id": "xcGglAPa3bkl",
        "outputId": "9cb485ee-8b86-4366-c9ff-728b0423561a"
      },
      "outputs": [
        {
          "data": {
            "text/plain": [
              "TensorShape([32, 256, 256, 3])"
            ]
          },
          "execution_count": 10,
          "metadata": {},
          "output_type": "execute_result"
        }
      ],
      "source": [
        "#Check the shape\n",
        "xb, yb = next(iter(df_train_it))\n",
        "xb.shape"
      ]
    },
    {
      "cell_type": "code",
      "execution_count": null,
      "metadata": {
        "colab": {
          "base_uri": "https://localhost:8080/",
          "height": 304
        },
        "id": "S1yFsA6C2YOP",
        "outputId": "63d3af86-b697-436f-d8ec-44c90090600b"
      },
      "outputs": [
        {
          "name": "stderr",
          "output_type": "stream",
          "text": [
            "Clipping input data to the valid range for imshow with RGB data ([0..1] for floats or [0..255] for integers).\n"
          ]
        },
        {
          "data": {
            "text/plain": [
              "<matplotlib.image.AxesImage at 0x7f7d700ce810>"
            ]
          },
          "execution_count": 16,
          "metadata": {},
          "output_type": "execute_result"
        },
        {
          "data": {
            "image/png": "[encoded data removed]",
            "text/plain": [
              "<Figure size 432x288 with 1 Axes>"
            ]
          },
          "metadata": {},
          "output_type": "display_data"
        }
      ],
      "source": [
        "#Example img\n",
        "plt.imshow(xb[22])"
      ]
    },
    {
      "cell_type": "markdown",
      "metadata": {
        "id": "-QY0TfCxo9yd"
      },
      "source": [
        "### Train the dataset\n"
      ]
    },
    {
      "cell_type": "markdown",
      "metadata": {
        "id": "GnvkoRVAqwg1"
      },
      "source": [
        "**DESCRIPTION OF THE CODE**: \n",
        "\n",
        "The model created is based on a VGG-11 Architecture, so it will have two convolutional blocks with just one convolutional layer and three blocks with two convolutional layer. Then there is a fully-connected part to address the classification problems, but the number of neurons is smaller compared to the classic model, in order to avoid a too big number of parameters to train.\n",
        "\n",
        "As output there are 100 different classes that our model should be able to predict and classify.\n",
        "To send data in the fully connected part will be used a GlobalAveragePooling and dropout functions to regularize the model."
      ]
    },
    {
      "cell_type": "code",
      "execution_count": null,
      "metadata": {
        "id": "tlpRZD4S4FEi"
      },
      "outputs": [],
      "source": [
        "#Let's try to define a classic VGG-11 Architecture with the add of Batchnormalization layers"
      ]
    },
    {
      "cell_type": "code",
      "execution_count": null,
      "metadata": {
        "id": "4Lvqlqd34FH1"
      },
      "outputs": [],
      "source": [
        "inp = layers.Input(shape=(256, 256, 3)) #Pixels 256x256, 3 channels"
      ]
    },
    {
      "cell_type": "code",
      "execution_count": null,
      "metadata": {
        "id": "11Fcl9gX5IDi"
      },
      "outputs": [],
      "source": [
        "def add_block(x, n_conv_layers, n_filters, use_max_pooling=True):\n",
        "\n",
        "    for i in range(n_conv_layers):\n",
        "        x = layers.Conv2D(n_filters, 3, padding='SAME', \n",
        "                          kernel_regularizer=regularizers.L2(1e-3))(x)\n",
        "        x = layers.BatchNormalization()(x)\n",
        "        x = layers.ReLU()(x)\n",
        "    \n",
        "    if use_max_pooling:\n",
        "        x = layers.MaxPool2D(strides =2)(x)\n",
        "    \n",
        "    return x\n",
        "\n",
        "def build_model():\n",
        "    \n",
        "\n",
        "    #First 2 block with just one convolutional layer\n",
        "    x = add_block(inp, n_conv_layers=1, n_filters=16)\n",
        "    x = add_block(x, n_conv_layers=1, n_filters=32)\n",
        "\n",
        "    #Following blocks with 2 convolutional layers\n",
        "    x = add_block(x, n_conv_layers=1, n_filters=32)\n",
        "    x = add_block(x, n_conv_layers=2, n_filters=64)\n",
        "    x = add_block(x, n_conv_layers=1, n_filters=64) #We stop at 64 because of the number of parameters is very high and I saw problems with Colab-runtime\n",
        "\n",
        "    #Fully connected part\n",
        "    x = layers.GlobalAveragePooling2D()(x)\n",
        "    x = layers.Dense(200, activation='relu')(x)\n",
        "    x = layers.Dropout(0.3)(x)\n",
        "    x = layers.Dense(200, activation='relu')(x)\n",
        "    x = layers.Dropout(0.3)(x)\n",
        "    x = layers.Dense(150, activation='relu')(x)\n",
        "    x = layers.Dropout(0.3)(x)\n",
        "\n",
        "    y = layers.Dense(100)(x) #The dataset has continous online upgrade, actually the class are 100, so this is the output layer.\n",
        "    return Model(inputs=inp, outputs=y)"
      ]
    },
    {
      "cell_type": "code",
      "execution_count": null,
      "metadata": {
        "colab": {
          "base_uri": "https://localhost:8080/"
        },
        "id": "dpm4X9PJG8d1",
        "outputId": "2a1d83f1-6400-41a9-853a-3a732d562b95"
      },
      "outputs": [
        {
          "name": "stdout",
          "output_type": "stream",
          "text": [
            "Model: \"model\"\n",
            "_________________________________________________________________\n",
            " Layer (type)                Output Shape              Param #   \n",
            "=================================================================\n",
            " input_1 (InputLayer)        [(None, 256, 256, 3)]     0         \n",
            "                                                                 \n",
            " conv2d (Conv2D)             (None, 256, 256, 16)      448       \n",
            "                                                                 \n",
            " batch_normalization (BatchN  (None, 256, 256, 16)     64        \n",
            " ormalization)                                                   \n",
            "                                                                 \n",
            " re_lu (ReLU)                (None, 256, 256, 16)      0         \n",
            "                                                                 \n",
            " max_pooling2d (MaxPooling2D  (None, 128, 128, 16)     0         \n",
            " )                                                               \n",
            "                                                                 \n",
            " conv2d_1 (Conv2D)           (None, 128, 128, 32)      4640      \n",
            "                                                                 \n",
            " batch_normalization_1 (Batc  (None, 128, 128, 32)     128       \n",
            " hNormalization)                                                 \n",
            "                                                                 \n",
            " re_lu_1 (ReLU)              (None, 128, 128, 32)      0         \n",
            "                                                                 \n",
            " max_pooling2d_1 (MaxPooling  (None, 64, 64, 32)       0         \n",
            " 2D)                                                             \n",
            "                                                                 \n",
            " conv2d_2 (Conv2D)           (None, 64, 64, 32)        9248      \n",
            "                                                                 \n",
            " batch_normalization_2 (Batc  (None, 64, 64, 32)       128       \n",
            " hNormalization)                                                 \n",
            "                                                                 \n",
            " re_lu_2 (ReLU)              (None, 64, 64, 32)        0         \n",
            "                                                                 \n",
            " max_pooling2d_2 (MaxPooling  (None, 32, 32, 32)       0         \n",
            " 2D)                                                             \n",
            "                                                                 \n",
            " conv2d_3 (Conv2D)           (None, 32, 32, 64)        18496     \n",
            "                                                                 \n",
            " batch_normalization_3 (Batc  (None, 32, 32, 64)       256       \n",
            " hNormalization)                                                 \n",
            "                                                                 \n",
            " re_lu_3 (ReLU)              (None, 32, 32, 64)        0         \n",
            "                                                                 \n",
            " conv2d_4 (Conv2D)           (None, 32, 32, 64)        36928     \n",
            "                                                                 \n",
            " batch_normalization_4 (Batc  (None, 32, 32, 64)       256       \n",
            " hNormalization)                                                 \n",
            "                                                                 \n",
            " re_lu_4 (ReLU)              (None, 32, 32, 64)        0         \n",
            "                                                                 \n",
            " max_pooling2d_3 (MaxPooling  (None, 16, 16, 64)       0         \n",
            " 2D)                                                             \n",
            "                                                                 \n",
            " conv2d_5 (Conv2D)           (None, 16, 16, 64)        36928     \n",
            "                                                                 \n",
            " batch_normalization_5 (Batc  (None, 16, 16, 64)       256       \n",
            " hNormalization)                                                 \n",
            "                                                                 \n",
            " re_lu_5 (ReLU)              (None, 16, 16, 64)        0         \n",
            "                                                                 \n",
            " max_pooling2d_4 (MaxPooling  (None, 8, 8, 64)         0         \n",
            " 2D)                                                             \n",
            "                                                                 \n",
            " global_average_pooling2d (G  (None, 64)               0         \n",
            " lobalAveragePooling2D)                                          \n",
            "                                                                 \n",
            " dense (Dense)               (None, 200)               13000     \n",
            "                                                                 \n",
            " dropout (Dropout)           (None, 200)               0         \n",
            "                                                                 \n",
            " dense_1 (Dense)             (None, 200)               40200     \n",
            "                                                                 \n",
            " dropout_1 (Dropout)         (None, 200)               0         \n",
            "                                                                 \n",
            " dense_2 (Dense)             (None, 150)               30150     \n",
            "                                                                 \n",
            " dropout_2 (Dropout)         (None, 150)               0         \n",
            "                                                                 \n",
            " dense_3 (Dense)             (None, 100)               15100     \n",
            "                                                                 \n",
            "=================================================================\n",
            "Total params: 206,226\n",
            "Trainable params: 205,682\n",
            "Non-trainable params: 544\n",
            "_________________________________________________________________\n"
          ]
        }
      ],
      "source": [
        "model = build_model()\n",
        "model.summary()"
      ]
    },
    {
      "cell_type": "code",
      "execution_count": null,
      "metadata": {
        "id": "h_wCaKIg8bKv"
      },
      "outputs": [],
      "source": [
        "#Training and evaluation"
      ]
    },
    {
      "cell_type": "code",
      "execution_count": null,
      "metadata": {
        "id": "MH3b2vtZ8b6W"
      },
      "outputs": [],
      "source": [
        "#Compile...\n",
        "\n",
        "model.compile( \n",
        "    loss=losses.SparseCategoricalCrossentropy(from_logits=True),\n",
        "    optimizer=optimizers.Adam(),\n",
        "    metrics=[metrics.SparseCategoricalAccuracy()]\n",
        " )"
      ]
    },
    {
      "cell_type": "code",
      "execution_count": null,
      "metadata": {
        "id": "12VTK2oR8x-Z"
      },
      "outputs": [],
      "source": [
        "#...let's define some callbacks...\n",
        "\n",
        "cbs = [\n",
        "       callbacks.TerminateOnNaN(),\n",
        "       callbacks.EarlyStopping(\n",
        "           monitor='val_sparse_categorical_accuracy',\n",
        "           patience=23,\n",
        "           restore_best_weights=True,\n",
        "           verbose=1\n",
        "       )\n",
        "]"
      ]
    },
    {
      "cell_type": "code",
      "execution_count": null,
      "metadata": {
        "colab": {
          "base_uri": "https://localhost:8080/"
        },
        "id": "krv7mS1t8117",
        "outputId": "c883feb3-bd8f-4a06-c01e-7fec12a64468"
      },
      "outputs": [
        {
          "name": "stdout",
          "output_type": "stream",
          "text": [
            "Epoch 1/200\n",
            "340/340 [==============================] - 81s 110ms/step - loss: 4.4909 - sparse_categorical_accuracy: 0.0343 - val_loss: 4.3476 - val_sparse_categorical_accuracy: 0.0300\n",
            "Epoch 2/200\n",
            "340/340 [==============================] - 64s 107ms/step - loss: 4.0274 - sparse_categorical_accuracy: 0.0661 - val_loss: 3.7951 - val_sparse_categorical_accuracy: 0.0820\n",
            "Epoch 3/200\n",
            "340/340 [==============================] - 59s 106ms/step - loss: 3.8380 - sparse_categorical_accuracy: 0.0873 - val_loss: 5.0435 - val_sparse_categorical_accuracy: 0.0540\n",
            "Epoch 4/200\n",
            "340/340 [==============================] - 59s 106ms/step - loss: 3.6679 - sparse_categorical_accuracy: 0.1142 - val_loss: 3.7375 - val_sparse_categorical_accuracy: 0.1120\n",
            "Epoch 5/200\n",
            "340/340 [==============================] - 59s 106ms/step - loss: 3.5538 - sparse_categorical_accuracy: 0.1285 - val_loss: 3.4520 - val_sparse_categorical_accuracy: 0.1280\n",
            "Epoch 6/200\n",
            "340/340 [==============================] - 61s 109ms/step - loss: 3.4463 - sparse_categorical_accuracy: 0.1530 - val_loss: 4.4574 - val_sparse_categorical_accuracy: 0.0700\n",
            "Epoch 7/200\n",
            "340/340 [==============================] - 60s 107ms/step - loss: 3.3433 - sparse_categorical_accuracy: 0.1748 - val_loss: 3.3194 - val_sparse_categorical_accuracy: 0.1960\n",
            "Epoch 8/200\n",
            "340/340 [==============================] - 60s 106ms/step - loss: 3.2614 - sparse_categorical_accuracy: 0.1857 - val_loss: 3.0830 - val_sparse_categorical_accuracy: 0.2240\n",
            "Epoch 9/200\n",
            "340/340 [==============================] - 59s 106ms/step - loss: 3.1918 - sparse_categorical_accuracy: 0.1949 - val_loss: 3.1398 - val_sparse_categorical_accuracy: 0.2020\n",
            "Epoch 10/200\n",
            "340/340 [==============================] - 59s 106ms/step - loss: 3.1343 - sparse_categorical_accuracy: 0.2142 - val_loss: 3.0496 - val_sparse_categorical_accuracy: 0.2280\n",
            "Epoch 11/200\n",
            "340/340 [==============================] - 59s 107ms/step - loss: 3.0603 - sparse_categorical_accuracy: 0.2286 - val_loss: 3.2565 - val_sparse_categorical_accuracy: 0.1760\n",
            "Epoch 12/200\n",
            "340/340 [==============================] - 59s 106ms/step - loss: 2.9838 - sparse_categorical_accuracy: 0.2348 - val_loss: 2.8746 - val_sparse_categorical_accuracy: 0.2560\n",
            "Epoch 13/200\n",
            "340/340 [==============================] - 59s 107ms/step - loss: 2.9564 - sparse_categorical_accuracy: 0.2519 - val_loss: 3.6861 - val_sparse_categorical_accuracy: 0.1560\n",
            "Epoch 14/200\n",
            "340/340 [==============================] - 59s 106ms/step - loss: 2.9139 - sparse_categorical_accuracy: 0.2656 - val_loss: 2.6543 - val_sparse_categorical_accuracy: 0.3240\n",
            "Epoch 15/200\n",
            "340/340 [==============================] - 60s 107ms/step - loss: 2.8757 - sparse_categorical_accuracy: 0.2758 - val_loss: 2.7528 - val_sparse_categorical_accuracy: 0.2900\n",
            "Epoch 16/200\n",
            "340/340 [==============================] - 60s 106ms/step - loss: 2.8256 - sparse_categorical_accuracy: 0.2873 - val_loss: 3.1101 - val_sparse_categorical_accuracy: 0.2300\n",
            "Epoch 17/200\n",
            "340/340 [==============================] - 60s 107ms/step - loss: 2.7712 - sparse_categorical_accuracy: 0.2950 - val_loss: 2.6112 - val_sparse_categorical_accuracy: 0.3440\n",
            "Epoch 18/200\n",
            "340/340 [==============================] - 59s 107ms/step - loss: 2.7454 - sparse_categorical_accuracy: 0.3020 - val_loss: 2.6344 - val_sparse_categorical_accuracy: 0.3260\n",
            "Epoch 19/200\n",
            "340/340 [==============================] - 59s 106ms/step - loss: 2.7106 - sparse_categorical_accuracy: 0.3093 - val_loss: 2.6027 - val_sparse_categorical_accuracy: 0.3140\n",
            "Epoch 20/200\n",
            "340/340 [==============================] - 60s 107ms/step - loss: 2.6745 - sparse_categorical_accuracy: 0.3251 - val_loss: 2.5133 - val_sparse_categorical_accuracy: 0.3560\n",
            "Epoch 21/200\n",
            "340/340 [==============================] - 60s 107ms/step - loss: 2.6100 - sparse_categorical_accuracy: 0.3352 - val_loss: 2.4106 - val_sparse_categorical_accuracy: 0.4000\n",
            "Epoch 22/200\n",
            "340/340 [==============================] - 60s 106ms/step - loss: 2.5767 - sparse_categorical_accuracy: 0.3454 - val_loss: 2.4464 - val_sparse_categorical_accuracy: 0.3600\n",
            "Epoch 23/200\n",
            "340/340 [==============================] - 59s 106ms/step - loss: 2.5519 - sparse_categorical_accuracy: 0.3518 - val_loss: 3.1979 - val_sparse_categorical_accuracy: 0.2420\n",
            "Epoch 24/200\n",
            "340/340 [==============================] - 60s 106ms/step - loss: 2.5049 - sparse_categorical_accuracy: 0.3652 - val_loss: 2.3305 - val_sparse_categorical_accuracy: 0.3880\n",
            "Epoch 25/200\n",
            "340/340 [==============================] - 60s 107ms/step - loss: 2.4780 - sparse_categorical_accuracy: 0.3747 - val_loss: 3.1548 - val_sparse_categorical_accuracy: 0.2680\n",
            "Epoch 26/200\n",
            "340/340 [==============================] - 60s 107ms/step - loss: 2.4143 - sparse_categorical_accuracy: 0.3785 - val_loss: 3.7291 - val_sparse_categorical_accuracy: 0.2400\n",
            "Epoch 27/200\n",
            "340/340 [==============================] - 60s 106ms/step - loss: 2.4033 - sparse_categorical_accuracy: 0.3845 - val_loss: 2.5132 - val_sparse_categorical_accuracy: 0.3320\n",
            "Epoch 28/200\n",
            "340/340 [==============================] - 60s 107ms/step - loss: 2.3749 - sparse_categorical_accuracy: 0.3980 - val_loss: 2.3728 - val_sparse_categorical_accuracy: 0.3760\n",
            "Epoch 29/200\n",
            "340/340 [==============================] - 60s 107ms/step - loss: 2.3469 - sparse_categorical_accuracy: 0.4098 - val_loss: 2.4131 - val_sparse_categorical_accuracy: 0.3800\n",
            "Epoch 30/200\n",
            "340/340 [==============================] - 60s 107ms/step - loss: 2.3253 - sparse_categorical_accuracy: 0.4119 - val_loss: 2.5649 - val_sparse_categorical_accuracy: 0.3640\n",
            "Epoch 31/200\n",
            "340/340 [==============================] - 60s 107ms/step - loss: 2.3060 - sparse_categorical_accuracy: 0.4200 - val_loss: 2.9227 - val_sparse_categorical_accuracy: 0.3180\n",
            "Epoch 32/200\n",
            "340/340 [==============================] - 60s 107ms/step - loss: 2.2834 - sparse_categorical_accuracy: 0.4211 - val_loss: 2.6199 - val_sparse_categorical_accuracy: 0.3580\n",
            "Epoch 33/200\n",
            "340/340 [==============================] - 61s 108ms/step - loss: 2.2627 - sparse_categorical_accuracy: 0.4345 - val_loss: 3.0892 - val_sparse_categorical_accuracy: 0.2740\n",
            "Epoch 34/200\n",
            "340/340 [==============================] - 60s 107ms/step - loss: 2.2327 - sparse_categorical_accuracy: 0.4428 - val_loss: 2.7489 - val_sparse_categorical_accuracy: 0.3420\n",
            "Epoch 35/200\n",
            "340/340 [==============================] - 60s 107ms/step - loss: 2.2339 - sparse_categorical_accuracy: 0.4441 - val_loss: 2.5924 - val_sparse_categorical_accuracy: 0.3680\n",
            "Epoch 36/200\n",
            "340/340 [==============================] - 60s 107ms/step - loss: 2.1872 - sparse_categorical_accuracy: 0.4514 - val_loss: 2.6038 - val_sparse_categorical_accuracy: 0.3600\n",
            "Epoch 37/200\n",
            "340/340 [==============================] - 60s 107ms/step - loss: 2.1815 - sparse_categorical_accuracy: 0.4566 - val_loss: 2.3584 - val_sparse_categorical_accuracy: 0.4180\n",
            "Epoch 38/200\n",
            "340/340 [==============================] - 60s 107ms/step - loss: 2.1499 - sparse_categorical_accuracy: 0.4609 - val_loss: 2.2451 - val_sparse_categorical_accuracy: 0.4320\n",
            "Epoch 39/200\n",
            "340/340 [==============================] - 60s 106ms/step - loss: 2.1369 - sparse_categorical_accuracy: 0.4730 - val_loss: 2.0076 - val_sparse_categorical_accuracy: 0.4980\n",
            "Epoch 40/200\n",
            "340/340 [==============================] - 60s 107ms/step - loss: 2.1368 - sparse_categorical_accuracy: 0.4652 - val_loss: 2.1304 - val_sparse_categorical_accuracy: 0.4600\n",
            "Epoch 41/200\n",
            "340/340 [==============================] - 60s 107ms/step - loss: 2.0748 - sparse_categorical_accuracy: 0.4790 - val_loss: 2.0860 - val_sparse_categorical_accuracy: 0.4740\n",
            "Epoch 42/200\n",
            "340/340 [==============================] - 60s 107ms/step - loss: 2.0724 - sparse_categorical_accuracy: 0.4930 - val_loss: 2.2044 - val_sparse_categorical_accuracy: 0.4420\n",
            "Epoch 43/200\n",
            "340/340 [==============================] - 60s 107ms/step - loss: 2.0415 - sparse_categorical_accuracy: 0.4926 - val_loss: 2.0527 - val_sparse_categorical_accuracy: 0.4980\n",
            "Epoch 44/200\n",
            "340/340 [==============================] - 60s 107ms/step - loss: 2.0713 - sparse_categorical_accuracy: 0.4872 - val_loss: 2.4325 - val_sparse_categorical_accuracy: 0.4180\n",
            "Epoch 45/200\n",
            "340/340 [==============================] - 60s 107ms/step - loss: 2.0372 - sparse_categorical_accuracy: 0.4948 - val_loss: 2.4895 - val_sparse_categorical_accuracy: 0.3940\n",
            "Epoch 46/200\n",
            "340/340 [==============================] - 60s 107ms/step - loss: 1.9949 - sparse_categorical_accuracy: 0.5122 - val_loss: 2.0625 - val_sparse_categorical_accuracy: 0.5080\n",
            "Epoch 47/200\n",
            "340/340 [==============================] - 60s 107ms/step - loss: 2.0504 - sparse_categorical_accuracy: 0.4959 - val_loss: 2.3145 - val_sparse_categorical_accuracy: 0.4480\n",
            "Epoch 48/200\n",
            "340/340 [==============================] - 60s 107ms/step - loss: 1.9904 - sparse_categorical_accuracy: 0.5114 - val_loss: 2.0804 - val_sparse_categorical_accuracy: 0.5260\n",
            "Epoch 49/200\n",
            "340/340 [==============================] - 60s 107ms/step - loss: 1.9864 - sparse_categorical_accuracy: 0.5099 - val_loss: 2.0859 - val_sparse_categorical_accuracy: 0.5060\n",
            "Epoch 50/200\n",
            "340/340 [==============================] - 60s 108ms/step - loss: 1.9660 - sparse_categorical_accuracy: 0.5234 - val_loss: 2.9763 - val_sparse_categorical_accuracy: 0.3500\n",
            "Epoch 51/200\n",
            "340/340 [==============================] - 60s 108ms/step - loss: 1.9627 - sparse_categorical_accuracy: 0.5247 - val_loss: 1.9158 - val_sparse_categorical_accuracy: 0.5160\n",
            "Epoch 52/200\n",
            "340/340 [==============================] - 60s 108ms/step - loss: 1.9260 - sparse_categorical_accuracy: 0.5313 - val_loss: 2.4489 - val_sparse_categorical_accuracy: 0.4520\n",
            "Epoch 53/200\n",
            "340/340 [==============================] - 60s 108ms/step - loss: 1.9402 - sparse_categorical_accuracy: 0.5192 - val_loss: 1.8762 - val_sparse_categorical_accuracy: 0.5240\n",
            "Epoch 54/200\n",
            "340/340 [==============================] - 60s 108ms/step - loss: 1.9326 - sparse_categorical_accuracy: 0.5231 - val_loss: 2.8336 - val_sparse_categorical_accuracy: 0.3940\n",
            "Epoch 55/200\n",
            "340/340 [==============================] - 60s 108ms/step - loss: 1.9192 - sparse_categorical_accuracy: 0.5333 - val_loss: 1.7972 - val_sparse_categorical_accuracy: 0.5420\n",
            "Epoch 56/200\n",
            "340/340 [==============================] - 60s 108ms/step - loss: 1.9184 - sparse_categorical_accuracy: 0.5329 - val_loss: 2.2493 - val_sparse_categorical_accuracy: 0.4740\n",
            "Epoch 57/200\n",
            "340/340 [==============================] - 60s 107ms/step - loss: 1.8921 - sparse_categorical_accuracy: 0.5404 - val_loss: 2.3288 - val_sparse_categorical_accuracy: 0.4600\n",
            "Epoch 58/200\n",
            "340/340 [==============================] - 60s 107ms/step - loss: 1.8929 - sparse_categorical_accuracy: 0.5438 - val_loss: 1.9396 - val_sparse_categorical_accuracy: 0.5280\n",
            "Epoch 59/200\n",
            "340/340 [==============================] - 60s 107ms/step - loss: 1.8653 - sparse_categorical_accuracy: 0.5479 - val_loss: 2.3629 - val_sparse_categorical_accuracy: 0.4380\n",
            "Epoch 60/200\n",
            "340/340 [==============================] - 60s 107ms/step - loss: 1.8738 - sparse_categorical_accuracy: 0.5520 - val_loss: 2.4868 - val_sparse_categorical_accuracy: 0.4400\n",
            "Epoch 61/200\n",
            "340/340 [==============================] - 60s 107ms/step - loss: 1.8597 - sparse_categorical_accuracy: 0.5478 - val_loss: 2.5942 - val_sparse_categorical_accuracy: 0.3740\n",
            "Epoch 62/200\n",
            "340/340 [==============================] - 60s 109ms/step - loss: 1.8353 - sparse_categorical_accuracy: 0.5585 - val_loss: 1.6495 - val_sparse_categorical_accuracy: 0.6120\n",
            "Epoch 63/200\n",
            "340/340 [==============================] - 60s 109ms/step - loss: 1.8360 - sparse_categorical_accuracy: 0.5581 - val_loss: 2.0111 - val_sparse_categorical_accuracy: 0.5180\n",
            "Epoch 64/200\n",
            "340/340 [==============================] - 61s 109ms/step - loss: 1.8306 - sparse_categorical_accuracy: 0.5569 - val_loss: 2.1438 - val_sparse_categorical_accuracy: 0.5000\n",
            "Epoch 65/200\n",
            "340/340 [==============================] - 61s 109ms/step - loss: 1.8287 - sparse_categorical_accuracy: 0.5698 - val_loss: 3.2134 - val_sparse_categorical_accuracy: 0.3740\n",
            "Epoch 66/200\n",
            "340/340 [==============================] - 61s 109ms/step - loss: 1.8188 - sparse_categorical_accuracy: 0.5618 - val_loss: 1.9728 - val_sparse_categorical_accuracy: 0.5140\n",
            "Epoch 67/200\n",
            "340/340 [==============================] - 61s 109ms/step - loss: 1.7977 - sparse_categorical_accuracy: 0.5678 - val_loss: 2.4883 - val_sparse_categorical_accuracy: 0.4240\n",
            "Epoch 68/200\n",
            "340/340 [==============================] - 61s 109ms/step - loss: 1.7859 - sparse_categorical_accuracy: 0.5758 - val_loss: 2.0396 - val_sparse_categorical_accuracy: 0.5220\n",
            "Epoch 69/200\n",
            "340/340 [==============================] - 61s 109ms/step - loss: 1.7792 - sparse_categorical_accuracy: 0.5781 - val_loss: 2.1457 - val_sparse_categorical_accuracy: 0.4820\n",
            "Epoch 70/200\n",
            "340/340 [==============================] - 61s 109ms/step - loss: 1.8091 - sparse_categorical_accuracy: 0.5712 - val_loss: 2.3169 - val_sparse_categorical_accuracy: 0.4580\n",
            "Epoch 71/200\n",
            "340/340 [==============================] - 61s 110ms/step - loss: 1.7524 - sparse_categorical_accuracy: 0.5814 - val_loss: 2.4344 - val_sparse_categorical_accuracy: 0.4520\n",
            "Epoch 72/200\n",
            "340/340 [==============================] - 61s 109ms/step - loss: 1.7652 - sparse_categorical_accuracy: 0.5865 - val_loss: 2.3522 - val_sparse_categorical_accuracy: 0.4680\n",
            "Epoch 73/200\n",
            "340/340 [==============================] - 61s 110ms/step - loss: 1.7610 - sparse_categorical_accuracy: 0.5818 - val_loss: 1.9572 - val_sparse_categorical_accuracy: 0.5300\n",
            "Epoch 74/200\n",
            "340/340 [==============================] - 61s 110ms/step - loss: 1.7516 - sparse_categorical_accuracy: 0.5851 - val_loss: 1.9322 - val_sparse_categorical_accuracy: 0.5520\n",
            "Epoch 75/200\n",
            "340/340 [==============================] - 61s 110ms/step - loss: 1.7521 - sparse_categorical_accuracy: 0.5910 - val_loss: 2.0773 - val_sparse_categorical_accuracy: 0.4960\n",
            "Epoch 76/200\n",
            "340/340 [==============================] - 60s 109ms/step - loss: 1.7511 - sparse_categorical_accuracy: 0.5891 - val_loss: 2.0047 - val_sparse_categorical_accuracy: 0.5300\n",
            "Epoch 77/200\n",
            "340/340 [==============================] - 61s 110ms/step - loss: 1.7491 - sparse_categorical_accuracy: 0.5937 - val_loss: 2.7003 - val_sparse_categorical_accuracy: 0.4460\n",
            "Epoch 78/200\n",
            "340/340 [==============================] - 61s 110ms/step - loss: 1.6833 - sparse_categorical_accuracy: 0.5993 - val_loss: 2.1461 - val_sparse_categorical_accuracy: 0.5060\n",
            "Epoch 79/200\n",
            "340/340 [==============================] - 61s 109ms/step - loss: 1.7334 - sparse_categorical_accuracy: 0.5977 - val_loss: 2.1926 - val_sparse_categorical_accuracy: 0.4860\n",
            "Epoch 80/200\n",
            "340/340 [==============================] - 61s 110ms/step - loss: 1.7249 - sparse_categorical_accuracy: 0.5953 - val_loss: 3.2543 - val_sparse_categorical_accuracy: 0.3140\n",
            "Epoch 81/200\n",
            "340/340 [==============================] - 61s 109ms/step - loss: 1.7127 - sparse_categorical_accuracy: 0.6002 - val_loss: 2.1195 - val_sparse_categorical_accuracy: 0.5120\n",
            "Epoch 82/200\n",
            "340/340 [==============================] - 61s 109ms/step - loss: 1.7420 - sparse_categorical_accuracy: 0.5973 - val_loss: 2.2636 - val_sparse_categorical_accuracy: 0.4880\n",
            "Epoch 83/200\n",
            "340/340 [==============================] - 61s 110ms/step - loss: 1.6847 - sparse_categorical_accuracy: 0.6108 - val_loss: 1.9771 - val_sparse_categorical_accuracy: 0.5420\n",
            "Epoch 84/200\n",
            "340/340 [==============================] - 61s 109ms/step - loss: 1.6903 - sparse_categorical_accuracy: 0.6107 - val_loss: 1.9854 - val_sparse_categorical_accuracy: 0.5580\n",
            "Epoch 85/200\n",
            "340/340 [==============================] - ETA: 0s - loss: 1.6807 - sparse_categorical_accuracy: 0.6110Restoring model weights from the end of the best epoch: 62.\n",
            "340/340 [==============================] - 61s 109ms/step - loss: 1.6807 - sparse_categorical_accuracy: 0.6110 - val_loss: 2.2237 - val_sparse_categorical_accuracy: 0.4820\n",
            "Epoch 00085: early stopping\n"
          ]
        },
        {
          "data": {
            "text/plain": [
              "<keras.callbacks.History at 0x7f547899d0d0>"
            ]
          },
          "execution_count": 18,
          "metadata": {},
          "output_type": "execute_result"
        }
      ],
      "source": [
        "#...And Fit() our model!\n",
        "\n",
        "model.fit(  \n",
        "    df_train_it,\n",
        "    epochs=200,\n",
        "    validation_data=df_val_it,\n",
        "    callbacks=cbs\n",
        ")"
      ]
    },
    {
      "cell_type": "code",
      "execution_count": null,
      "metadata": {
        "colab": {
          "base_uri": "https://localhost:8080/",
          "height": 312
        },
        "id": "WA78sTZl2Wg0",
        "outputId": "db23d4b5-16e3-4d95-8c5a-f44e88b82834"
      },
      "outputs": [
        {
          "data": {
            "text/plain": [
              "Text(0.5, 0, 'Epochs')"
            ]
          },
          "execution_count": 19,
          "metadata": {},
          "output_type": "execute_result"
        },
        {
          "data": {
            "image/png": "[encoded data removed]",
            "text/plain": [
              "<Figure size 432x288 with 1 Axes>"
            ]
          },
          "metadata": {},
          "output_type": "display_data"
        }
      ],
      "source": [
        "plt.plot(model.history.history['sparse_categorical_accuracy'])\n",
        "plt.plot(model.history.history['val_sparse_categorical_accuracy'])\n",
        "plt.legend(['Training', 'Validation'])\n",
        "plt.title('Accuracy')\n",
        "plt.xlabel('Epochs')"
      ]
    },
    {
      "cell_type": "code",
      "execution_count": null,
      "metadata": {
        "colab": {
          "base_uri": "https://localhost:8080/"
        },
        "id": "jFNv7Hwv3fBK",
        "outputId": "052f8a70-d92c-43e3-c136-9682e436a42a"
      },
      "outputs": [
        {
          "name": "stdout",
          "output_type": "stream",
          "text": [
            "16/16 [==============================] - 2s 54ms/step - loss: 1.5794 - sparse_categorical_accuracy: 0.6460\n"
          ]
        },
        {
          "data": {
            "text/plain": [
              "[1.5794011354446411, 0.6460000276565552]"
            ]
          },
          "execution_count": 20,
          "metadata": {},
          "output_type": "execute_result"
        }
      ],
      "source": [
        "model.evaluate(df_test_it)"
      ]
    },
    {
      "cell_type": "markdown",
      "metadata": {
        "id": "tnNdMWIs3fUs"
      },
      "source": [
        "The accuracy reached is not a great result, considering the prospective of the Dataset described in Kaggle.\n",
        "We can try to improve it adding others way to augment the images, improving the number of epochs (like 200 or 300) and improving consequentially the 'patience' parameters in the callback (like 25 or 30 )\n",
        "\n",
        "The run was very time-consuming so I decided to stop here."
      ]
    },
    {
      "cell_type": "code",
      "execution_count": null,
      "metadata": {
        "id": "NCea4IqE2ZRf"
      },
      "outputs": [],
      "source": [
        "model.save_weights('./checkpoints/my_checkpoint')"
      ]
    },
    {
      "cell_type": "markdown",
      "metadata": {
        "id": "vZSxSj5PHGaM"
      },
      "source": [
        "## Part 2: Continual learning\n",
        "\n",
        "Workflow:\n",
        "\n",
        "* **Task-incremental learning**: split the dataset in > 2 task (e.g., dividing the outputs into disjoint subsets). The model will be a multi-head model\n",
        "* Train the model on the tasks sequentially, using **elastic weight consolidation** (EWC).\n",
        "* Show  the mean accuracy (as defined in the slides) and the backward transfer after training.\n"
      ]
    },
    {
      "cell_type": "markdown",
      "metadata": {
        "id": "w1o_Wyq7ua7M"
      },
      "source": [
        "*Changes on the dataset*\n",
        "\n",
        "In local, I modified the folders in order to split the tasks (3 tasks), then I uploaded the new directories on my Google-Drive and I read the datasets from there.\n",
        "\n",
        "I created 3 different folders (one for each tasks), with 33 classes of images, splitting the initial folder of 100 classes and deleting one class of images. And I moved some images from the train set to test and validation set.\n"
      ]
    },
    {
      "cell_type": "code",
      "execution_count": null,
      "metadata": {
        "colab": {
          "base_uri": "https://localhost:8080/"
        },
        "id": "h4Ah8-Hkpcms",
        "outputId": "1bd63322-5a0c-4cbd-be16-894f83f9f54a"
      },
      "outputs": [
        {
          "output_type": "stream",
          "name": "stdout",
          "text": [
            "Mounted at /content/drive\n"
          ]
        }
      ],
      "source": [
        "from google.colab import drive\n",
        "drive.mount('/content/drive')"
      ]
    },
    {
      "cell_type": "markdown",
      "metadata": {
        "id": "nAezCjUOlIrf"
      },
      "source": [
        "Now, we can consider the problem in this way:\n",
        "\n",
        "**Task 1)** The Model should learn how to recognize and  classify 33 different classes of sport pictures\n",
        "\n",
        "**Task 2)** The Model, remembering how to classify former classes, has to learn new 33 different classes\n",
        "\n",
        "**Task 3)** The model should learn how to detect pictures others 33 different sports"
      ]
    },
    {
      "cell_type": "markdown",
      "metadata": {
        "id": "Wy8jPXhVmeLB"
      },
      "source": [
        "#### Load and preprocess the new dataset"
      ]
    },
    {
      "cell_type": "code",
      "execution_count": null,
      "metadata": {
        "colab": {
          "base_uri": "https://localhost:8080/"
        },
        "id": "8auSJnrmS1lg",
        "outputId": "8c07dc01-e91d-442a-a8ea-d48e4982269b"
      },
      "outputs": [
        {
          "output_type": "stream",
          "name": "stdout",
          "text": [
            "Found 3559 files belonging to 33 classes.\n",
            "Found 660 files belonging to 33 classes.\n",
            "Found 660 files belonging to 33 classes.\n",
            "--------------------------\n",
            "Found 3476 files belonging to 33 classes.\n",
            "Found 660 files belonging to 33 classes.\n",
            "Found 660 files belonging to 33 classes.\n",
            "--------------------------\n",
            "Found 3479 files belonging to 33 classes.\n",
            "Found 660 files belonging to 33 classes.\n",
            "Found 660 files belonging to 33 classes.\n"
          ]
        }
      ],
      "source": [
        "# Split the dataset\n",
        "n_tasks = 3\n",
        "\n",
        "#Dataset for Task 1\n",
        "df_train_task1 = tf.keras.utils.image_dataset_from_directory('/content/drive/MyDrive/Colab Notebooks/Continual_Learning2/task1_train',  labels='inferred',batch_size=32) \n",
        "df_val_task1 = tf.keras.utils.image_dataset_from_directory('/content/drive/MyDrive/Colab Notebooks/Continual_Learning2/task1_valid', labels='inferred',batch_size=32)\n",
        "df_test_task1 = tf.keras.utils.image_dataset_from_directory('/content/drive/MyDrive/Colab Notebooks/Continual_Learning2/task1_test', labels='inferred',batch_size=32)\n",
        "print('--------------------------')\n",
        "#Dataset for Task 2\n",
        "df_train_task2 = tf.keras.utils.image_dataset_from_directory('/content/drive/MyDrive/Colab Notebooks/Continual_Learning2/task2_train',  labels='inferred',batch_size=32) \n",
        "df_val_task2 = tf.keras.utils.image_dataset_from_directory('/content/drive/MyDrive/Colab Notebooks/Continual_Learning2/task2_valid', labels='inferred',batch_size=32)\n",
        "df_test_task2 = tf.keras.utils.image_dataset_from_directory('/content/drive/MyDrive/Colab Notebooks/Continual_Learning2/task2_test', labels='inferred',batch_size=32)\n",
        "print('--------------------------')\n",
        "\n",
        "#Dataset for Task 3\n",
        "df_train_task3 = tf.keras.utils.image_dataset_from_directory('/content/drive/MyDrive/Colab Notebooks/Continual_Learning2/task3_train',  labels='inferred',batch_size=32) \n",
        "df_val_task3 = tf.keras.utils.image_dataset_from_directory('/content/drive/MyDrive/Colab Notebooks/Continual_Learning2/task3_valid', labels='inferred',batch_size=32)\n",
        "df_test_task3 = tf.keras.utils.image_dataset_from_directory('/content/drive/MyDrive/Colab Notebooks/Continual_Learning2/task3_test', labels='inferred',batch_size=32)"
      ]
    },
    {
      "cell_type": "code",
      "execution_count": null,
      "metadata": {
        "id": "2kLII2NpwZqf"
      },
      "outputs": [],
      "source": [
        "#Pre-processing data for task1\n",
        "\n",
        "df_train_task1 = \\\n",
        "  df_train_task1.map(preprocess).shuffle(1000).map(augment).prefetch(tf.data.AUTOTUNE)\n",
        "df_val_task1 = \\\n",
        "  df_val_task1.map(preprocess).prefetch(tf.data.AUTOTUNE)\n",
        "df_test_task1 = \\\n",
        "  df_test_task1.map(preprocess).prefetch(tf.data.AUTOTUNE)\n",
        "                                         \n",
        "#Pre-processing data for task2\n",
        "\n",
        "df_train_task2 = \\\n",
        "  df_train_task2.map(preprocess).shuffle(1000).map(augment).prefetch(tf.data.AUTOTUNE)\n",
        "df_val_task2 = \\\n",
        "  df_val_task2.map(preprocess).prefetch(tf.data.AUTOTUNE)\n",
        "df_test_task2 = \\\n",
        "  df_test_task2.map(preprocess).prefetch(tf.data.AUTOTUNE) \n",
        "\n",
        "#Pre-processing data for task1\n",
        "\n",
        "df_train_task3 = \\\n",
        "  df_train_task3.map(preprocess).shuffle(1000).map(augment).prefetch(tf.data.AUTOTUNE)\n",
        "df_val_task3 = \\\n",
        "  df_val_task3.map(preprocess).prefetch(tf.data.AUTOTUNE)\n",
        "df_test_task3 = \\\n",
        "  df_test_task3.map(preprocess).prefetch(tf.data.AUTOTUNE)                                    "
      ]
    },
    {
      "cell_type": "markdown",
      "metadata": {
        "id": "-yhH6RQlmjCX"
      },
      "source": [
        "#### Create a new model"
      ]
    },
    {
      "cell_type": "code",
      "execution_count": null,
      "metadata": {
        "id": "JuifJDPNvQT0"
      },
      "outputs": [],
      "source": [
        "#Let's define another model, simpler than the one in the point above\n",
        "\n",
        "def add_block2(x, n_conv_layers=1, n_filters=32, use_max_pooling=True):\n",
        "\n",
        "    for i in range(n_conv_layers):\n",
        "        x = layers.Conv2D(n_filters, 3, padding='SAME', \n",
        "                          kernel_regularizer=regularizers.L2(1e-3))(x)\n",
        "        x = layers.BatchNormalization()(x)\n",
        "        x = layers.ReLU()(x)\n",
        "    \n",
        "    if use_max_pooling:\n",
        "        x = layers.MaxPool2D(strides =2)(x)\n",
        "    \n",
        "    return x\n",
        "\n",
        "\n",
        "def build_model():\n",
        "\n",
        "    #2 block with just one convolutional layer\n",
        "    inp = layers.Input(shape=(256, 256, 3))\n",
        "    x = add_block2(inp, n_conv_layers=1, n_filters=32)\n",
        "    x = add_block2(x, n_conv_layers=1, n_filters=64)\n",
        "   \n",
        "    #Fully connected part\n",
        "    x = layers.GlobalAveragePooling2D()(x)\n",
        "    x = layers.Dense(250, activation='relu')(x)\n",
        "    x = layers.Dropout(0.3)(x)\n",
        "    x = layers.Dense(100, activation='relu')(x)\n",
        "    x = layers.Dropout(0.3)(x)\n",
        "\n",
        "    #Head1\n",
        "    h1 = layers.Dense(33 , activation ='softmax', name=\"head_1\")(x)\n",
        "    #Head2\n",
        "    h2 = layers.Dense(33 , activation ='softmax', name=\"head_2\")(x) \n",
        "    #Head3 \n",
        "    h3 = layers.Dense(33 , activation ='softmax', name=\"head_3\")(x) \n",
        "    return Model(inputs=inp, outputs=[h1, h2 , h3])"
      ]
    },
    {
      "cell_type": "code",
      "execution_count": null,
      "metadata": {
        "colab": {
          "base_uri": "https://localhost:8080/"
        },
        "id": "Y-q5F7cQ-9OW",
        "outputId": "92464e0e-2e3f-4148-f5aa-6a9ad627a473"
      },
      "outputs": [
        {
          "output_type": "stream",
          "name": "stdout",
          "text": [
            "Model: \"model\"\n",
            "__________________________________________________________________________________________________\n",
            " Layer (type)                   Output Shape         Param #     Connected to                     \n",
            "==================================================================================================\n",
            " input_1 (InputLayer)           [(None, 256, 256, 3  0           []                               \n",
            "                                )]                                                                \n",
            "                                                                                                  \n",
            " conv2d (Conv2D)                (None, 256, 256, 32  896         ['input_1[0][0]']                \n",
            "                                )                                                                 \n",
            "                                                                                                  \n",
            " batch_normalization (BatchNorm  (None, 256, 256, 32  128        ['conv2d[0][0]']                 \n",
            " alization)                     )                                                                 \n",
            "                                                                                                  \n",
            " re_lu (ReLU)                   (None, 256, 256, 32  0           ['batch_normalization[0][0]']    \n",
            "                                )                                                                 \n",
            "                                                                                                  \n",
            " max_pooling2d (MaxPooling2D)   (None, 128, 128, 32  0           ['re_lu[0][0]']                  \n",
            "                                )                                                                 \n",
            "                                                                                                  \n",
            " conv2d_1 (Conv2D)              (None, 128, 128, 64  18496       ['max_pooling2d[0][0]']          \n",
            "                                )                                                                 \n",
            "                                                                                                  \n",
            " batch_normalization_1 (BatchNo  (None, 128, 128, 64  256        ['conv2d_1[0][0]']               \n",
            " rmalization)                   )                                                                 \n",
            "                                                                                                  \n",
            " re_lu_1 (ReLU)                 (None, 128, 128, 64  0           ['batch_normalization_1[0][0]']  \n",
            "                                )                                                                 \n",
            "                                                                                                  \n",
            " max_pooling2d_1 (MaxPooling2D)  (None, 64, 64, 64)  0           ['re_lu_1[0][0]']                \n",
            "                                                                                                  \n",
            " global_average_pooling2d (Glob  (None, 64)          0           ['max_pooling2d_1[0][0]']        \n",
            " alAveragePooling2D)                                                                              \n",
            "                                                                                                  \n",
            " dense (Dense)                  (None, 250)          16250       ['global_average_pooling2d[0][0]'\n",
            "                                                                 ]                                \n",
            "                                                                                                  \n",
            " dropout (Dropout)              (None, 250)          0           ['dense[0][0]']                  \n",
            "                                                                                                  \n",
            " dense_1 (Dense)                (None, 100)          25100       ['dropout[0][0]']                \n",
            "                                                                                                  \n",
            " dropout_1 (Dropout)            (None, 100)          0           ['dense_1[0][0]']                \n",
            "                                                                                                  \n",
            " head_1 (Dense)                 (None, 33)           3333        ['dropout_1[0][0]']              \n",
            "                                                                                                  \n",
            " head_2 (Dense)                 (None, 33)           3333        ['dropout_1[0][0]']              \n",
            "                                                                                                  \n",
            " head_3 (Dense)                 (None, 33)           3333        ['dropout_1[0][0]']              \n",
            "                                                                                                  \n",
            "==================================================================================================\n",
            "Total params: 71,125\n",
            "Trainable params: 70,933\n",
            "Non-trainable params: 192\n",
            "__________________________________________________________________________________________________\n"
          ]
        }
      ],
      "source": [
        "# Define the multi-head model\n",
        "# Tip: the functional API is pretty good here\n",
        "\n",
        "model1 = build_model()\n",
        "model1.summary()"
      ]
    },
    {
      "cell_type": "code",
      "execution_count": null,
      "metadata": {
        "id": "t6cKXatzvQW3"
      },
      "outputs": [],
      "source": [
        "# Now we compile and train the model on the first task ( df_train_task1)"
      ]
    },
    {
      "cell_type": "code",
      "execution_count": null,
      "metadata": {
        "id": "F2-uBRMxGYaR"
      },
      "outputs": [],
      "source": [
        "model1.compile( \n",
        "    loss=[losses.SparseCategoricalCrossentropy(from_logits=False), None , None] ,\n",
        "    optimizer=optimizers.Adam(),\n",
        "    metrics= [metrics.SparseCategoricalAccuracy()]\n",
        " )"
      ]
    },
    {
      "cell_type": "code",
      "execution_count": null,
      "metadata": {
        "id": "uHDrz6dTRb38"
      },
      "outputs": [],
      "source": [
        "#...let's define some callbacks...\n",
        "\n",
        "cbs2 = [\n",
        "       callbacks.TerminateOnNaN(),\n",
        "       callbacks.EarlyStopping(\n",
        "           monitor='val_head_1_sparse_categorical_accuracy',\n",
        "           patience=23,\n",
        "           restore_best_weights=True,\n",
        "           verbose=1\n",
        "       )\n",
        "]\n",
        "\n",
        "cbs3 = [\n",
        "       callbacks.TerminateOnNaN(),\n",
        "       callbacks.EarlyStopping(\n",
        "           monitor='val_head_2_sparse_categorical_accuracy',\n",
        "           patience=23,\n",
        "           restore_best_weights=True,\n",
        "           verbose=1\n",
        "       )\n",
        "]\n",
        "\n",
        "cbs4 = [\n",
        "       callbacks.TerminateOnNaN(),\n",
        "       callbacks.EarlyStopping(\n",
        "           monitor='val_head_3_sparse_categorical_accuracy',\n",
        "           patience=23,\n",
        "           restore_best_weights=True,\n",
        "           verbose=1\n",
        "       )\n",
        "]\n",
        "\n"
      ]
    },
    {
      "cell_type": "code",
      "execution_count": null,
      "metadata": {
        "colab": {
          "base_uri": "https://localhost:8080/"
        },
        "id": "hwplhOMyHOOX",
        "outputId": "d38e9435-ddc5-4aeb-e72b-37530aeafa63"
      },
      "outputs": [
        {
          "output_type": "stream",
          "name": "stdout",
          "text": [
            "Epoch 1/70\n",
            "WARNING:tensorflow:Gradients do not exist for variables ['head_2/kernel:0', 'head_2/bias:0', 'head_3/kernel:0', 'head_3/bias:0'] when minimizing the loss. If you're using `model.compile()`, did you forget to provide a `loss`argument?\n",
            "WARNING:tensorflow:Gradients do not exist for variables ['head_2/kernel:0', 'head_2/bias:0', 'head_3/kernel:0', 'head_3/bias:0'] when minimizing the loss. If you're using `model.compile()`, did you forget to provide a `loss`argument?\n",
            "112/112 [==============================] - 145s 1s/step - loss: 3.2961 - head_1_loss: 3.2503 - head_1_sparse_categorical_accuracy: 0.0905 - head_2_sparse_categorical_accuracy: 0.0301 - head_3_sparse_categorical_accuracy: 0.0332 - val_loss: 3.5280 - val_head_1_loss: 3.4845 - val_head_1_sparse_categorical_accuracy: 0.0333 - val_head_2_sparse_categorical_accuracy: 0.0258 - val_head_3_sparse_categorical_accuracy: 0.0409\n",
            "Epoch 2/70\n",
            "112/112 [==============================] - 26s 149ms/step - loss: 2.9629 - head_1_loss: 2.9208 - head_1_sparse_categorical_accuracy: 0.1498 - head_2_sparse_categorical_accuracy: 0.0261 - head_3_sparse_categorical_accuracy: 0.0461 - val_loss: 3.7097 - val_head_1_loss: 3.6689 - val_head_1_sparse_categorical_accuracy: 0.0394 - val_head_2_sparse_categorical_accuracy: 0.0303 - val_head_3_sparse_categorical_accuracy: 0.0394\n",
            "Epoch 3/70\n",
            "112/112 [==============================] - 26s 149ms/step - loss: 2.7751 - head_1_loss: 2.7353 - head_1_sparse_categorical_accuracy: 0.2062 - head_2_sparse_categorical_accuracy: 0.0267 - head_3_sparse_categorical_accuracy: 0.0441 - val_loss: 3.2669 - val_head_1_loss: 3.2280 - val_head_1_sparse_categorical_accuracy: 0.1136 - val_head_2_sparse_categorical_accuracy: 0.0318 - val_head_3_sparse_categorical_accuracy: 0.0379\n",
            "Epoch 4/70\n",
            "112/112 [==============================] - 27s 149ms/step - loss: 2.6810 - head_1_loss: 2.6425 - head_1_sparse_categorical_accuracy: 0.2186 - head_2_sparse_categorical_accuracy: 0.0287 - head_3_sparse_categorical_accuracy: 0.0388 - val_loss: 2.8573 - val_head_1_loss: 2.8194 - val_head_1_sparse_categorical_accuracy: 0.1500 - val_head_2_sparse_categorical_accuracy: 0.0303 - val_head_3_sparse_categorical_accuracy: 0.0394\n",
            "Epoch 5/70\n",
            "112/112 [==============================] - 27s 148ms/step - loss: 2.5870 - head_1_loss: 2.5493 - head_1_sparse_categorical_accuracy: 0.2475 - head_2_sparse_categorical_accuracy: 0.0301 - head_3_sparse_categorical_accuracy: 0.0483 - val_loss: 2.6763 - val_head_1_loss: 2.6386 - val_head_1_sparse_categorical_accuracy: 0.2303 - val_head_2_sparse_categorical_accuracy: 0.0530 - val_head_3_sparse_categorical_accuracy: 0.0591\n",
            "Epoch 6/70\n",
            "112/112 [==============================] - 27s 150ms/step - loss: 2.5058 - head_1_loss: 2.4685 - head_1_sparse_categorical_accuracy: 0.2725 - head_2_sparse_categorical_accuracy: 0.0303 - head_3_sparse_categorical_accuracy: 0.0441 - val_loss: 2.5259 - val_head_1_loss: 2.4889 - val_head_1_sparse_categorical_accuracy: 0.2939 - val_head_2_sparse_categorical_accuracy: 0.0470 - val_head_3_sparse_categorical_accuracy: 0.0636\n",
            "Epoch 7/70\n",
            "112/112 [==============================] - 26s 148ms/step - loss: 2.4354 - head_1_loss: 2.3986 - head_1_sparse_categorical_accuracy: 0.2801 - head_2_sparse_categorical_accuracy: 0.0273 - head_3_sparse_categorical_accuracy: 0.0441 - val_loss: 2.4988 - val_head_1_loss: 2.4621 - val_head_1_sparse_categorical_accuracy: 0.2682 - val_head_2_sparse_categorical_accuracy: 0.0364 - val_head_3_sparse_categorical_accuracy: 0.0576\n",
            "Epoch 8/70\n",
            "112/112 [==============================] - 27s 151ms/step - loss: 2.3541 - head_1_loss: 2.3176 - head_1_sparse_categorical_accuracy: 0.3063 - head_2_sparse_categorical_accuracy: 0.0340 - head_3_sparse_categorical_accuracy: 0.0362 - val_loss: 2.5125 - val_head_1_loss: 2.4761 - val_head_1_sparse_categorical_accuracy: 0.2682 - val_head_2_sparse_categorical_accuracy: 0.0379 - val_head_3_sparse_categorical_accuracy: 0.0424\n",
            "Epoch 9/70\n",
            "112/112 [==============================] - 27s 148ms/step - loss: 2.3272 - head_1_loss: 2.2908 - head_1_sparse_categorical_accuracy: 0.3144 - head_2_sparse_categorical_accuracy: 0.0270 - head_3_sparse_categorical_accuracy: 0.0377 - val_loss: 2.6102 - val_head_1_loss: 2.5736 - val_head_1_sparse_categorical_accuracy: 0.2697 - val_head_2_sparse_categorical_accuracy: 0.0182 - val_head_3_sparse_categorical_accuracy: 0.0636\n",
            "Epoch 10/70\n",
            "112/112 [==============================] - 27s 149ms/step - loss: 2.3094 - head_1_loss: 2.2729 - head_1_sparse_categorical_accuracy: 0.3245 - head_2_sparse_categorical_accuracy: 0.0301 - head_3_sparse_categorical_accuracy: 0.0348 - val_loss: 2.7185 - val_head_1_loss: 2.6820 - val_head_1_sparse_categorical_accuracy: 0.2333 - val_head_2_sparse_categorical_accuracy: 0.0515 - val_head_3_sparse_categorical_accuracy: 0.0303\n",
            "Epoch 11/70\n",
            "112/112 [==============================] - 27s 149ms/step - loss: 2.2353 - head_1_loss: 2.1986 - head_1_sparse_categorical_accuracy: 0.3434 - head_2_sparse_categorical_accuracy: 0.0312 - head_3_sparse_categorical_accuracy: 0.0357 - val_loss: 2.4569 - val_head_1_loss: 2.4203 - val_head_1_sparse_categorical_accuracy: 0.3121 - val_head_2_sparse_categorical_accuracy: 0.0439 - val_head_3_sparse_categorical_accuracy: 0.0273\n",
            "Epoch 12/70\n",
            "112/112 [==============================] - 26s 149ms/step - loss: 2.2052 - head_1_loss: 2.1686 - head_1_sparse_categorical_accuracy: 0.3535 - head_2_sparse_categorical_accuracy: 0.0348 - head_3_sparse_categorical_accuracy: 0.0402 - val_loss: 2.4318 - val_head_1_loss: 2.3952 - val_head_1_sparse_categorical_accuracy: 0.3076 - val_head_2_sparse_categorical_accuracy: 0.0348 - val_head_3_sparse_categorical_accuracy: 0.0364\n",
            "Epoch 13/70\n",
            "112/112 [==============================] - 27s 152ms/step - loss: 2.1790 - head_1_loss: 2.1422 - head_1_sparse_categorical_accuracy: 0.3479 - head_2_sparse_categorical_accuracy: 0.0368 - head_3_sparse_categorical_accuracy: 0.0351 - val_loss: 2.6708 - val_head_1_loss: 2.6340 - val_head_1_sparse_categorical_accuracy: 0.2439 - val_head_2_sparse_categorical_accuracy: 0.0348 - val_head_3_sparse_categorical_accuracy: 0.0303\n",
            "Epoch 14/70\n",
            "112/112 [==============================] - 27s 149ms/step - loss: 2.1523 - head_1_loss: 2.1153 - head_1_sparse_categorical_accuracy: 0.3585 - head_2_sparse_categorical_accuracy: 0.0292 - head_3_sparse_categorical_accuracy: 0.0348 - val_loss: 2.3391 - val_head_1_loss: 2.3021 - val_head_1_sparse_categorical_accuracy: 0.3288 - val_head_2_sparse_categorical_accuracy: 0.0136 - val_head_3_sparse_categorical_accuracy: 0.0303\n",
            "Epoch 15/70\n",
            "112/112 [==============================] - 26s 149ms/step - loss: 2.1111 - head_1_loss: 2.0741 - head_1_sparse_categorical_accuracy: 0.3723 - head_2_sparse_categorical_accuracy: 0.0346 - head_3_sparse_categorical_accuracy: 0.0337 - val_loss: 2.9877 - val_head_1_loss: 2.9507 - val_head_1_sparse_categorical_accuracy: 0.2106 - val_head_2_sparse_categorical_accuracy: 0.0515 - val_head_3_sparse_categorical_accuracy: 0.0394\n",
            "Epoch 16/70\n",
            "112/112 [==============================] - 26s 148ms/step - loss: 2.1296 - head_1_loss: 2.0925 - head_1_sparse_categorical_accuracy: 0.3740 - head_2_sparse_categorical_accuracy: 0.0301 - head_3_sparse_categorical_accuracy: 0.0340 - val_loss: 4.6675 - val_head_1_loss: 4.6302 - val_head_1_sparse_categorical_accuracy: 0.1258 - val_head_2_sparse_categorical_accuracy: 0.0636 - val_head_3_sparse_categorical_accuracy: 0.0258\n",
            "Epoch 17/70\n",
            "112/112 [==============================] - 26s 148ms/step - loss: 2.0921 - head_1_loss: 2.0545 - head_1_sparse_categorical_accuracy: 0.3900 - head_2_sparse_categorical_accuracy: 0.0332 - head_3_sparse_categorical_accuracy: 0.0371 - val_loss: 2.7562 - val_head_1_loss: 2.7184 - val_head_1_sparse_categorical_accuracy: 0.2424 - val_head_2_sparse_categorical_accuracy: 0.0439 - val_head_3_sparse_categorical_accuracy: 0.0455\n",
            "Epoch 18/70\n",
            "112/112 [==============================] - 26s 148ms/step - loss: 2.0528 - head_1_loss: 2.0150 - head_1_sparse_categorical_accuracy: 0.3863 - head_2_sparse_categorical_accuracy: 0.0343 - head_3_sparse_categorical_accuracy: 0.0357 - val_loss: 2.2783 - val_head_1_loss: 2.2405 - val_head_1_sparse_categorical_accuracy: 0.3258 - val_head_2_sparse_categorical_accuracy: 0.0318 - val_head_3_sparse_categorical_accuracy: 0.0242\n",
            "Epoch 19/70\n",
            "112/112 [==============================] - 26s 149ms/step - loss: 2.0277 - head_1_loss: 1.9898 - head_1_sparse_categorical_accuracy: 0.4077 - head_2_sparse_categorical_accuracy: 0.0337 - head_3_sparse_categorical_accuracy: 0.0382 - val_loss: 2.1392 - val_head_1_loss: 2.1012 - val_head_1_sparse_categorical_accuracy: 0.3818 - val_head_2_sparse_categorical_accuracy: 0.0439 - val_head_3_sparse_categorical_accuracy: 0.0348\n",
            "Epoch 20/70\n",
            "112/112 [==============================] - 27s 150ms/step - loss: 2.0129 - head_1_loss: 1.9749 - head_1_sparse_categorical_accuracy: 0.3990 - head_2_sparse_categorical_accuracy: 0.0315 - head_3_sparse_categorical_accuracy: 0.0332 - val_loss: 2.3435 - val_head_1_loss: 2.3053 - val_head_1_sparse_categorical_accuracy: 0.3621 - val_head_2_sparse_categorical_accuracy: 0.0439 - val_head_3_sparse_categorical_accuracy: 0.0273\n",
            "Epoch 21/70\n",
            "112/112 [==============================] - 27s 149ms/step - loss: 2.0302 - head_1_loss: 1.9919 - head_1_sparse_categorical_accuracy: 0.3996 - head_2_sparse_categorical_accuracy: 0.0337 - head_3_sparse_categorical_accuracy: 0.0278 - val_loss: 2.2192 - val_head_1_loss: 2.1809 - val_head_1_sparse_categorical_accuracy: 0.3636 - val_head_2_sparse_categorical_accuracy: 0.0439 - val_head_3_sparse_categorical_accuracy: 0.0303\n",
            "Epoch 22/70\n",
            "112/112 [==============================] - 27s 149ms/step - loss: 1.9731 - head_1_loss: 1.9348 - head_1_sparse_categorical_accuracy: 0.4040 - head_2_sparse_categorical_accuracy: 0.0382 - head_3_sparse_categorical_accuracy: 0.0303 - val_loss: 2.6015 - val_head_1_loss: 2.5633 - val_head_1_sparse_categorical_accuracy: 0.2788 - val_head_2_sparse_categorical_accuracy: 0.0500 - val_head_3_sparse_categorical_accuracy: 0.0318\n",
            "Epoch 23/70\n",
            "112/112 [==============================] - 27s 150ms/step - loss: 1.9680 - head_1_loss: 1.9296 - head_1_sparse_categorical_accuracy: 0.4175 - head_2_sparse_categorical_accuracy: 0.0371 - head_3_sparse_categorical_accuracy: 0.0303 - val_loss: 2.0304 - val_head_1_loss: 1.9918 - val_head_1_sparse_categorical_accuracy: 0.4045 - val_head_2_sparse_categorical_accuracy: 0.0288 - val_head_3_sparse_categorical_accuracy: 0.0333\n",
            "Epoch 24/70\n",
            "112/112 [==============================] - 29s 172ms/step - loss: 1.9830 - head_1_loss: 1.9440 - head_1_sparse_categorical_accuracy: 0.4032 - head_2_sparse_categorical_accuracy: 0.0351 - head_3_sparse_categorical_accuracy: 0.0348 - val_loss: 2.3404 - val_head_1_loss: 2.3013 - val_head_1_sparse_categorical_accuracy: 0.3424 - val_head_2_sparse_categorical_accuracy: 0.0227 - val_head_3_sparse_categorical_accuracy: 0.0318\n",
            "Epoch 25/70\n",
            "112/112 [==============================] - 29s 149ms/step - loss: 1.9525 - head_1_loss: 1.9134 - head_1_sparse_categorical_accuracy: 0.4181 - head_2_sparse_categorical_accuracy: 0.0402 - head_3_sparse_categorical_accuracy: 0.0346 - val_loss: 2.3092 - val_head_1_loss: 2.2701 - val_head_1_sparse_categorical_accuracy: 0.3379 - val_head_2_sparse_categorical_accuracy: 0.0409 - val_head_3_sparse_categorical_accuracy: 0.0348\n",
            "Epoch 26/70\n",
            "112/112 [==============================] - 27s 150ms/step - loss: 1.9581 - head_1_loss: 1.9188 - head_1_sparse_categorical_accuracy: 0.4139 - head_2_sparse_categorical_accuracy: 0.0348 - head_3_sparse_categorical_accuracy: 0.0329 - val_loss: 2.4397 - val_head_1_loss: 2.4002 - val_head_1_sparse_categorical_accuracy: 0.3106 - val_head_2_sparse_categorical_accuracy: 0.0318 - val_head_3_sparse_categorical_accuracy: 0.0167\n",
            "Epoch 27/70\n",
            "112/112 [==============================] - 26s 149ms/step - loss: 1.9315 - head_1_loss: 1.8919 - head_1_sparse_categorical_accuracy: 0.4251 - head_2_sparse_categorical_accuracy: 0.0295 - head_3_sparse_categorical_accuracy: 0.0320 - val_loss: 2.4275 - val_head_1_loss: 2.3879 - val_head_1_sparse_categorical_accuracy: 0.3258 - val_head_2_sparse_categorical_accuracy: 0.0197 - val_head_3_sparse_categorical_accuracy: 0.0333\n",
            "Epoch 28/70\n",
            "112/112 [==============================] - 27s 149ms/step - loss: 1.9354 - head_1_loss: 1.8958 - head_1_sparse_categorical_accuracy: 0.4293 - head_2_sparse_categorical_accuracy: 0.0379 - head_3_sparse_categorical_accuracy: 0.0329 - val_loss: 2.0421 - val_head_1_loss: 2.0024 - val_head_1_sparse_categorical_accuracy: 0.3848 - val_head_2_sparse_categorical_accuracy: 0.0424 - val_head_3_sparse_categorical_accuracy: 0.0318\n",
            "Epoch 29/70\n",
            "112/112 [==============================] - 27s 152ms/step - loss: 1.9105 - head_1_loss: 1.8707 - head_1_sparse_categorical_accuracy: 0.4324 - head_2_sparse_categorical_accuracy: 0.0318 - head_3_sparse_categorical_accuracy: 0.0368 - val_loss: 2.1337 - val_head_1_loss: 2.0940 - val_head_1_sparse_categorical_accuracy: 0.3576 - val_head_2_sparse_categorical_accuracy: 0.0364 - val_head_3_sparse_categorical_accuracy: 0.0273\n",
            "Epoch 30/70\n",
            "112/112 [==============================] - 27s 149ms/step - loss: 1.8600 - head_1_loss: 1.8203 - head_1_sparse_categorical_accuracy: 0.4459 - head_2_sparse_categorical_accuracy: 0.0360 - head_3_sparse_categorical_accuracy: 0.0312 - val_loss: 2.5260 - val_head_1_loss: 2.4862 - val_head_1_sparse_categorical_accuracy: 0.2985 - val_head_2_sparse_categorical_accuracy: 0.0621 - val_head_3_sparse_categorical_accuracy: 0.0348\n",
            "Epoch 31/70\n",
            "112/112 [==============================] - 27s 149ms/step - loss: 1.8638 - head_1_loss: 1.8239 - head_1_sparse_categorical_accuracy: 0.4344 - head_2_sparse_categorical_accuracy: 0.0351 - head_3_sparse_categorical_accuracy: 0.0315 - val_loss: 2.2460 - val_head_1_loss: 2.2059 - val_head_1_sparse_categorical_accuracy: 0.3576 - val_head_2_sparse_categorical_accuracy: 0.0379 - val_head_3_sparse_categorical_accuracy: 0.0364\n",
            "Epoch 32/70\n",
            "112/112 [==============================] - 27s 149ms/step - loss: 1.8715 - head_1_loss: 1.8313 - head_1_sparse_categorical_accuracy: 0.4380 - head_2_sparse_categorical_accuracy: 0.0340 - head_3_sparse_categorical_accuracy: 0.0382 - val_loss: 3.0952 - val_head_1_loss: 3.0546 - val_head_1_sparse_categorical_accuracy: 0.2348 - val_head_2_sparse_categorical_accuracy: 0.0470 - val_head_3_sparse_categorical_accuracy: 0.0348\n",
            "Epoch 33/70\n",
            "112/112 [==============================] - 27s 150ms/step - loss: 1.8560 - head_1_loss: 1.8154 - head_1_sparse_categorical_accuracy: 0.4372 - head_2_sparse_categorical_accuracy: 0.0320 - head_3_sparse_categorical_accuracy: 0.0371 - val_loss: 2.2748 - val_head_1_loss: 2.2342 - val_head_1_sparse_categorical_accuracy: 0.3348 - val_head_2_sparse_categorical_accuracy: 0.0424 - val_head_3_sparse_categorical_accuracy: 0.0455\n",
            "Epoch 34/70\n",
            "112/112 [==============================] - 27s 149ms/step - loss: 1.8350 - head_1_loss: 1.7941 - head_1_sparse_categorical_accuracy: 0.4557 - head_2_sparse_categorical_accuracy: 0.0343 - head_3_sparse_categorical_accuracy: 0.0362 - val_loss: 4.3332 - val_head_1_loss: 4.2922 - val_head_1_sparse_categorical_accuracy: 0.1273 - val_head_2_sparse_categorical_accuracy: 0.0424 - val_head_3_sparse_categorical_accuracy: 0.0212\n",
            "Epoch 35/70\n",
            "112/112 [==============================] - 26s 149ms/step - loss: 1.8433 - head_1_loss: 1.8023 - head_1_sparse_categorical_accuracy: 0.4504 - head_2_sparse_categorical_accuracy: 0.0332 - head_3_sparse_categorical_accuracy: 0.0343 - val_loss: 2.1073 - val_head_1_loss: 2.0660 - val_head_1_sparse_categorical_accuracy: 0.3833 - val_head_2_sparse_categorical_accuracy: 0.0379 - val_head_3_sparse_categorical_accuracy: 0.0318\n",
            "Epoch 36/70\n",
            "112/112 [==============================] - 26s 149ms/step - loss: 1.8158 - head_1_loss: 1.7745 - head_1_sparse_categorical_accuracy: 0.4692 - head_2_sparse_categorical_accuracy: 0.0351 - head_3_sparse_categorical_accuracy: 0.0326 - val_loss: 2.0559 - val_head_1_loss: 2.0144 - val_head_1_sparse_categorical_accuracy: 0.3985 - val_head_2_sparse_categorical_accuracy: 0.0515 - val_head_3_sparse_categorical_accuracy: 0.0258\n",
            "Epoch 37/70\n",
            "112/112 [==============================] - 26s 149ms/step - loss: 1.8145 - head_1_loss: 1.7728 - head_1_sparse_categorical_accuracy: 0.4535 - head_2_sparse_categorical_accuracy: 0.0374 - head_3_sparse_categorical_accuracy: 0.0332 - val_loss: 2.4360 - val_head_1_loss: 2.3940 - val_head_1_sparse_categorical_accuracy: 0.3242 - val_head_2_sparse_categorical_accuracy: 0.0318 - val_head_3_sparse_categorical_accuracy: 0.0364\n",
            "Epoch 38/70\n",
            "112/112 [==============================] - 27s 150ms/step - loss: 1.8123 - head_1_loss: 1.7704 - head_1_sparse_categorical_accuracy: 0.4538 - head_2_sparse_categorical_accuracy: 0.0329 - head_3_sparse_categorical_accuracy: 0.0323 - val_loss: 2.5638 - val_head_1_loss: 2.5218 - val_head_1_sparse_categorical_accuracy: 0.2985 - val_head_2_sparse_categorical_accuracy: 0.0621 - val_head_3_sparse_categorical_accuracy: 0.0394\n",
            "Epoch 39/70\n",
            "112/112 [==============================] - 26s 148ms/step - loss: 1.8264 - head_1_loss: 1.7842 - head_1_sparse_categorical_accuracy: 0.4490 - head_2_sparse_categorical_accuracy: 0.0326 - head_3_sparse_categorical_accuracy: 0.0377 - val_loss: 2.0148 - val_head_1_loss: 1.9723 - val_head_1_sparse_categorical_accuracy: 0.3833 - val_head_2_sparse_categorical_accuracy: 0.0318 - val_head_3_sparse_categorical_accuracy: 0.0379\n",
            "Epoch 40/70\n",
            "112/112 [==============================] - 26s 147ms/step - loss: 1.8154 - head_1_loss: 1.7729 - head_1_sparse_categorical_accuracy: 0.4622 - head_2_sparse_categorical_accuracy: 0.0334 - head_3_sparse_categorical_accuracy: 0.0365 - val_loss: 2.1501 - val_head_1_loss: 2.1073 - val_head_1_sparse_categorical_accuracy: 0.3788 - val_head_2_sparse_categorical_accuracy: 0.0364 - val_head_3_sparse_categorical_accuracy: 0.0288\n",
            "Epoch 41/70\n",
            "112/112 [==============================] - 26s 148ms/step - loss: 1.7779 - head_1_loss: 1.7349 - head_1_sparse_categorical_accuracy: 0.4692 - head_2_sparse_categorical_accuracy: 0.0374 - head_3_sparse_categorical_accuracy: 0.0295 - val_loss: 1.9655 - val_head_1_loss: 1.9224 - val_head_1_sparse_categorical_accuracy: 0.4273 - val_head_2_sparse_categorical_accuracy: 0.0318 - val_head_3_sparse_categorical_accuracy: 0.0182\n",
            "Epoch 42/70\n",
            "112/112 [==============================] - 27s 151ms/step - loss: 1.7735 - head_1_loss: 1.7304 - head_1_sparse_categorical_accuracy: 0.4732 - head_2_sparse_categorical_accuracy: 0.0332 - head_3_sparse_categorical_accuracy: 0.0343 - val_loss: 2.0565 - val_head_1_loss: 2.0133 - val_head_1_sparse_categorical_accuracy: 0.3727 - val_head_2_sparse_categorical_accuracy: 0.0303 - val_head_3_sparse_categorical_accuracy: 0.0333\n",
            "Epoch 43/70\n",
            "112/112 [==============================] - 26s 151ms/step - loss: 1.7577 - head_1_loss: 1.7144 - head_1_sparse_categorical_accuracy: 0.4718 - head_2_sparse_categorical_accuracy: 0.0348 - head_3_sparse_categorical_accuracy: 0.0357 - val_loss: 2.4738 - val_head_1_loss: 2.4304 - val_head_1_sparse_categorical_accuracy: 0.3197 - val_head_2_sparse_categorical_accuracy: 0.0561 - val_head_3_sparse_categorical_accuracy: 0.0348\n",
            "Epoch 44/70\n",
            "112/112 [==============================] - 27s 149ms/step - loss: 1.7621 - head_1_loss: 1.7187 - head_1_sparse_categorical_accuracy: 0.4706 - head_2_sparse_categorical_accuracy: 0.0362 - head_3_sparse_categorical_accuracy: 0.0365 - val_loss: 2.2058 - val_head_1_loss: 2.1623 - val_head_1_sparse_categorical_accuracy: 0.3697 - val_head_2_sparse_categorical_accuracy: 0.0576 - val_head_3_sparse_categorical_accuracy: 0.0303\n",
            "Epoch 45/70\n",
            "112/112 [==============================] - 27s 151ms/step - loss: 1.7507 - head_1_loss: 1.7071 - head_1_sparse_categorical_accuracy: 0.4819 - head_2_sparse_categorical_accuracy: 0.0323 - head_3_sparse_categorical_accuracy: 0.0315 - val_loss: 2.0900 - val_head_1_loss: 2.0461 - val_head_1_sparse_categorical_accuracy: 0.3985 - val_head_2_sparse_categorical_accuracy: 0.0394 - val_head_3_sparse_categorical_accuracy: 0.0348\n",
            "Epoch 46/70\n",
            "112/112 [==============================] - 27s 150ms/step - loss: 1.7291 - head_1_loss: 1.6851 - head_1_sparse_categorical_accuracy: 0.4726 - head_2_sparse_categorical_accuracy: 0.0343 - head_3_sparse_categorical_accuracy: 0.0368 - val_loss: 2.0486 - val_head_1_loss: 2.0044 - val_head_1_sparse_categorical_accuracy: 0.4091 - val_head_2_sparse_categorical_accuracy: 0.0409 - val_head_3_sparse_categorical_accuracy: 0.0318\n",
            "Epoch 47/70\n",
            "112/112 [==============================] - 27s 150ms/step - loss: 1.7314 - head_1_loss: 1.6872 - head_1_sparse_categorical_accuracy: 0.4771 - head_2_sparse_categorical_accuracy: 0.0284 - head_3_sparse_categorical_accuracy: 0.0360 - val_loss: 1.9761 - val_head_1_loss: 1.9319 - val_head_1_sparse_categorical_accuracy: 0.4121 - val_head_2_sparse_categorical_accuracy: 0.0621 - val_head_3_sparse_categorical_accuracy: 0.0288\n",
            "Epoch 48/70\n",
            "112/112 [==============================] - 27s 152ms/step - loss: 1.7154 - head_1_loss: 1.6711 - head_1_sparse_categorical_accuracy: 0.4816 - head_2_sparse_categorical_accuracy: 0.0368 - head_3_sparse_categorical_accuracy: 0.0323 - val_loss: 2.2008 - val_head_1_loss: 2.1563 - val_head_1_sparse_categorical_accuracy: 0.3758 - val_head_2_sparse_categorical_accuracy: 0.0212 - val_head_3_sparse_categorical_accuracy: 0.0318\n",
            "Epoch 49/70\n",
            "112/112 [==============================] - 27s 150ms/step - loss: 1.7160 - head_1_loss: 1.6713 - head_1_sparse_categorical_accuracy: 0.4844 - head_2_sparse_categorical_accuracy: 0.0281 - head_3_sparse_categorical_accuracy: 0.0360 - val_loss: 2.2071 - val_head_1_loss: 2.1623 - val_head_1_sparse_categorical_accuracy: 0.3621 - val_head_2_sparse_categorical_accuracy: 0.0409 - val_head_3_sparse_categorical_accuracy: 0.0288\n",
            "Epoch 50/70\n",
            "112/112 [==============================] - 26s 148ms/step - loss: 1.7078 - head_1_loss: 1.6627 - head_1_sparse_categorical_accuracy: 0.4872 - head_2_sparse_categorical_accuracy: 0.0368 - head_3_sparse_categorical_accuracy: 0.0320 - val_loss: 2.2142 - val_head_1_loss: 2.1691 - val_head_1_sparse_categorical_accuracy: 0.3818 - val_head_2_sparse_categorical_accuracy: 0.0394 - val_head_3_sparse_categorical_accuracy: 0.0182\n",
            "Epoch 51/70\n",
            "112/112 [==============================] - 26s 148ms/step - loss: 1.7089 - head_1_loss: 1.6635 - head_1_sparse_categorical_accuracy: 0.4881 - head_2_sparse_categorical_accuracy: 0.0309 - head_3_sparse_categorical_accuracy: 0.0374 - val_loss: 2.3958 - val_head_1_loss: 2.3503 - val_head_1_sparse_categorical_accuracy: 0.3515 - val_head_2_sparse_categorical_accuracy: 0.0182 - val_head_3_sparse_categorical_accuracy: 0.0333\n",
            "Epoch 52/70\n",
            "112/112 [==============================] - 27s 150ms/step - loss: 1.6923 - head_1_loss: 1.6466 - head_1_sparse_categorical_accuracy: 0.4934 - head_2_sparse_categorical_accuracy: 0.0315 - head_3_sparse_categorical_accuracy: 0.0312 - val_loss: 1.9067 - val_head_1_loss: 1.8609 - val_head_1_sparse_categorical_accuracy: 0.4394 - val_head_2_sparse_categorical_accuracy: 0.0439 - val_head_3_sparse_categorical_accuracy: 0.0424\n",
            "Epoch 53/70\n",
            "112/112 [==============================] - 27s 150ms/step - loss: 1.6727 - head_1_loss: 1.6269 - head_1_sparse_categorical_accuracy: 0.5027 - head_2_sparse_categorical_accuracy: 0.0323 - head_3_sparse_categorical_accuracy: 0.0410 - val_loss: 1.9379 - val_head_1_loss: 1.8923 - val_head_1_sparse_categorical_accuracy: 0.4500 - val_head_2_sparse_categorical_accuracy: 0.0303 - val_head_3_sparse_categorical_accuracy: 0.0258\n",
            "Epoch 54/70\n",
            "112/112 [==============================] - 27s 151ms/step - loss: 1.6619 - head_1_loss: 1.6161 - head_1_sparse_categorical_accuracy: 0.4889 - head_2_sparse_categorical_accuracy: 0.0312 - head_3_sparse_categorical_accuracy: 0.0312 - val_loss: 1.9331 - val_head_1_loss: 1.8872 - val_head_1_sparse_categorical_accuracy: 0.4409 - val_head_2_sparse_categorical_accuracy: 0.0242 - val_head_3_sparse_categorical_accuracy: 0.0364\n",
            "Epoch 55/70\n",
            "112/112 [==============================] - 27s 151ms/step - loss: 1.6517 - head_1_loss: 1.6057 - head_1_sparse_categorical_accuracy: 0.4976 - head_2_sparse_categorical_accuracy: 0.0332 - head_3_sparse_categorical_accuracy: 0.0309 - val_loss: 1.8930 - val_head_1_loss: 1.8470 - val_head_1_sparse_categorical_accuracy: 0.4621 - val_head_2_sparse_categorical_accuracy: 0.0379 - val_head_3_sparse_categorical_accuracy: 0.0364\n",
            "Epoch 56/70\n",
            "112/112 [==============================] - 27s 149ms/step - loss: 1.6752 - head_1_loss: 1.6291 - head_1_sparse_categorical_accuracy: 0.4951 - head_2_sparse_categorical_accuracy: 0.0340 - head_3_sparse_categorical_accuracy: 0.0318 - val_loss: 1.9316 - val_head_1_loss: 1.8852 - val_head_1_sparse_categorical_accuracy: 0.4348 - val_head_2_sparse_categorical_accuracy: 0.0394 - val_head_3_sparse_categorical_accuracy: 0.0273\n",
            "Epoch 57/70\n",
            "112/112 [==============================] - 27s 151ms/step - loss: 1.6690 - head_1_loss: 1.6224 - head_1_sparse_categorical_accuracy: 0.5058 - head_2_sparse_categorical_accuracy: 0.0326 - head_3_sparse_categorical_accuracy: 0.0365 - val_loss: 2.2714 - val_head_1_loss: 2.2246 - val_head_1_sparse_categorical_accuracy: 0.3424 - val_head_2_sparse_categorical_accuracy: 0.0455 - val_head_3_sparse_categorical_accuracy: 0.0303\n",
            "Epoch 58/70\n",
            "112/112 [==============================] - 27s 150ms/step - loss: 1.6339 - head_1_loss: 1.5871 - head_1_sparse_categorical_accuracy: 0.5108 - head_2_sparse_categorical_accuracy: 0.0332 - head_3_sparse_categorical_accuracy: 0.0374 - val_loss: 2.9245 - val_head_1_loss: 2.8777 - val_head_1_sparse_categorical_accuracy: 0.2758 - val_head_2_sparse_categorical_accuracy: 0.0485 - val_head_3_sparse_categorical_accuracy: 0.0258\n",
            "Epoch 59/70\n",
            "112/112 [==============================] - 26s 149ms/step - loss: 1.6194 - head_1_loss: 1.5724 - head_1_sparse_categorical_accuracy: 0.5119 - head_2_sparse_categorical_accuracy: 0.0309 - head_3_sparse_categorical_accuracy: 0.0362 - val_loss: 2.8858 - val_head_1_loss: 2.8388 - val_head_1_sparse_categorical_accuracy: 0.2727 - val_head_2_sparse_categorical_accuracy: 0.0409 - val_head_3_sparse_categorical_accuracy: 0.0136\n",
            "Epoch 60/70\n",
            "112/112 [==============================] - 26s 149ms/step - loss: 1.6398 - head_1_loss: 1.5927 - head_1_sparse_categorical_accuracy: 0.5153 - head_2_sparse_categorical_accuracy: 0.0377 - head_3_sparse_categorical_accuracy: 0.0379 - val_loss: 2.0849 - val_head_1_loss: 2.0375 - val_head_1_sparse_categorical_accuracy: 0.4045 - val_head_2_sparse_categorical_accuracy: 0.0409 - val_head_3_sparse_categorical_accuracy: 0.0318\n",
            "Epoch 61/70\n",
            "112/112 [==============================] - 27s 149ms/step - loss: 1.6394 - head_1_loss: 1.5920 - head_1_sparse_categorical_accuracy: 0.5027 - head_2_sparse_categorical_accuracy: 0.0337 - head_3_sparse_categorical_accuracy: 0.0388 - val_loss: 2.3807 - val_head_1_loss: 2.3331 - val_head_1_sparse_categorical_accuracy: 0.3667 - val_head_2_sparse_categorical_accuracy: 0.0485 - val_head_3_sparse_categorical_accuracy: 0.0318\n",
            "Epoch 62/70\n",
            "112/112 [==============================] - 27s 150ms/step - loss: 1.6087 - head_1_loss: 1.5610 - head_1_sparse_categorical_accuracy: 0.5164 - head_2_sparse_categorical_accuracy: 0.0332 - head_3_sparse_categorical_accuracy: 0.0315 - val_loss: 2.0231 - val_head_1_loss: 1.9752 - val_head_1_sparse_categorical_accuracy: 0.4076 - val_head_2_sparse_categorical_accuracy: 0.0348 - val_head_3_sparse_categorical_accuracy: 0.0348\n",
            "Epoch 63/70\n",
            "112/112 [==============================] - 26s 149ms/step - loss: 1.6074 - head_1_loss: 1.5594 - head_1_sparse_categorical_accuracy: 0.5156 - head_2_sparse_categorical_accuracy: 0.0354 - head_3_sparse_categorical_accuracy: 0.0343 - val_loss: 2.7476 - val_head_1_loss: 2.6996 - val_head_1_sparse_categorical_accuracy: 0.3242 - val_head_2_sparse_categorical_accuracy: 0.0500 - val_head_3_sparse_categorical_accuracy: 0.0500\n",
            "Epoch 64/70\n",
            "112/112 [==============================] - 27s 152ms/step - loss: 1.6062 - head_1_loss: 1.5580 - head_1_sparse_categorical_accuracy: 0.5187 - head_2_sparse_categorical_accuracy: 0.0318 - head_3_sparse_categorical_accuracy: 0.0284 - val_loss: 2.1034 - val_head_1_loss: 2.0551 - val_head_1_sparse_categorical_accuracy: 0.4091 - val_head_2_sparse_categorical_accuracy: 0.0333 - val_head_3_sparse_categorical_accuracy: 0.0394\n",
            "Epoch 65/70\n",
            "112/112 [==============================] - 26s 149ms/step - loss: 1.6109 - head_1_loss: 1.5625 - head_1_sparse_categorical_accuracy: 0.5167 - head_2_sparse_categorical_accuracy: 0.0278 - head_3_sparse_categorical_accuracy: 0.0326 - val_loss: 2.1033 - val_head_1_loss: 2.0549 - val_head_1_sparse_categorical_accuracy: 0.4152 - val_head_2_sparse_categorical_accuracy: 0.0273 - val_head_3_sparse_categorical_accuracy: 0.0379\n",
            "Epoch 66/70\n",
            "112/112 [==============================] - 27s 151ms/step - loss: 1.5961 - head_1_loss: 1.5475 - head_1_sparse_categorical_accuracy: 0.5178 - head_2_sparse_categorical_accuracy: 0.0264 - head_3_sparse_categorical_accuracy: 0.0365 - val_loss: 2.9935 - val_head_1_loss: 2.9448 - val_head_1_sparse_categorical_accuracy: 0.2485 - val_head_2_sparse_categorical_accuracy: 0.0439 - val_head_3_sparse_categorical_accuracy: 0.0242\n",
            "Epoch 67/70\n",
            "112/112 [==============================] - 26s 149ms/step - loss: 1.5831 - head_1_loss: 1.5341 - head_1_sparse_categorical_accuracy: 0.5187 - head_2_sparse_categorical_accuracy: 0.0315 - head_3_sparse_categorical_accuracy: 0.0332 - val_loss: 2.0058 - val_head_1_loss: 1.9567 - val_head_1_sparse_categorical_accuracy: 0.4242 - val_head_2_sparse_categorical_accuracy: 0.0364 - val_head_3_sparse_categorical_accuracy: 0.0288\n",
            "Epoch 68/70\n",
            "112/112 [==============================] - 26s 151ms/step - loss: 1.5646 - head_1_loss: 1.5155 - head_1_sparse_categorical_accuracy: 0.5251 - head_2_sparse_categorical_accuracy: 0.0340 - head_3_sparse_categorical_accuracy: 0.0413 - val_loss: 2.9609 - val_head_1_loss: 2.9116 - val_head_1_sparse_categorical_accuracy: 0.2848 - val_head_2_sparse_categorical_accuracy: 0.0455 - val_head_3_sparse_categorical_accuracy: 0.0364\n",
            "Epoch 69/70\n",
            "112/112 [==============================] - 27s 150ms/step - loss: 1.5624 - head_1_loss: 1.5129 - head_1_sparse_categorical_accuracy: 0.5336 - head_2_sparse_categorical_accuracy: 0.0340 - head_3_sparse_categorical_accuracy: 0.0309 - val_loss: 1.9985 - val_head_1_loss: 1.9489 - val_head_1_sparse_categorical_accuracy: 0.4212 - val_head_2_sparse_categorical_accuracy: 0.0212 - val_head_3_sparse_categorical_accuracy: 0.0379\n",
            "Epoch 70/70\n",
            "112/112 [==============================] - 26s 150ms/step - loss: 1.5560 - head_1_loss: 1.5064 - head_1_sparse_categorical_accuracy: 0.5285 - head_2_sparse_categorical_accuracy: 0.0306 - head_3_sparse_categorical_accuracy: 0.0315 - val_loss: 2.1384 - val_head_1_loss: 2.0889 - val_head_1_sparse_categorical_accuracy: 0.3985 - val_head_2_sparse_categorical_accuracy: 0.0152 - val_head_3_sparse_categorical_accuracy: 0.0364\n"
          ]
        },
        {
          "output_type": "execute_result",
          "data": {
            "text/plain": [
              "<keras.callbacks.History at 0x7f1f902d5b10>"
            ]
          },
          "metadata": {},
          "execution_count": 11
        }
      ],
      "source": [
        "model1.fit(  \n",
        "    df_train_task1,\n",
        "    epochs=70,\n",
        "    validation_data=df_val_task1,\n",
        "    callbacks=cbs2\n",
        ")"
      ]
    },
    {
      "cell_type": "code",
      "execution_count": null,
      "metadata": {
        "id": "9xnJF0o90uAu"
      },
      "outputs": [],
      "source": [
        "model1.save_weights('./drive/MyDrive/Colab Notebooks/checkpoints/weights1')"
      ]
    },
    {
      "cell_type": "code",
      "execution_count": null,
      "metadata": {
        "id": "V5j_GwvPLjYh"
      },
      "outputs": [],
      "source": [
        "model1_weights = model1.trainable_variables.copy()"
      ]
    },
    {
      "cell_type": "code",
      "source": [
        "model1 = build_model()\n",
        "model1.load_weights('./drive/MyDrive/Colab Notebooks/checkpoints/weights1')"
      ],
      "metadata": {
        "colab": {
          "base_uri": "https://localhost:8080/"
        },
        "id": "CmpXSoLaQPrL",
        "outputId": "45cbf811-ee4a-4108-cbb8-893a026ee644"
      },
      "execution_count": null,
      "outputs": [
        {
          "output_type": "execute_result",
          "data": {
            "text/plain": [
              "<tensorflow.python.training.tracking.util.CheckpointLoadStatus at 0x7f7ef91a70d0>"
            ]
          },
          "metadata": {},
          "execution_count": 10
        }
      ]
    },
    {
      "cell_type": "markdown",
      "metadata": {
        "id": "B0ptw0JuXJcH"
      },
      "source": [
        "Evaluation on different taks"
      ]
    },
    {
      "cell_type": "code",
      "execution_count": null,
      "metadata": {
        "colab": {
          "base_uri": "https://localhost:8080/"
        },
        "id": "A6_7UOXQeuHG",
        "outputId": "3d80c19a-0cf3-4bb4-f804-1cf6483276da"
      },
      "outputs": [
        {
          "output_type": "stream",
          "name": "stdout",
          "text": [
            "21/21 [==============================] - 100s 3s/step - loss: 2.0907 - head_1_loss: 2.0411 - head_1_sparse_categorical_accuracy: 0.4015 - head_2_sparse_categorical_accuracy: 0.0242 - head_3_sparse_categorical_accuracy: 0.0424\n"
          ]
        },
        {
          "output_type": "execute_result",
          "data": {
            "text/plain": [
              "[2.0906546115875244,\n",
              " 2.041149377822876,\n",
              " 0.4015151560306549,\n",
              " 0.024242423474788666,\n",
              " 0.042424242943525314]"
            ]
          },
          "metadata": {},
          "execution_count": 14
        }
      ],
      "source": [
        "#Evaluation on task1 - testset\n",
        "model1.evaluate(df_test_task1)"
      ]
    },
    {
      "cell_type": "code",
      "execution_count": null,
      "metadata": {
        "colab": {
          "base_uri": "https://localhost:8080/"
        },
        "id": "p0FfIoozldQV",
        "outputId": "9f30543c-0508-4b0c-8d23-4b620fa4cebb"
      },
      "outputs": [
        {
          "output_type": "stream",
          "name": "stdout",
          "text": [
            "21/21 [==============================] - 99s 3s/step - loss: 7.0500 - head_1_loss: 7.0005 - head_1_sparse_categorical_accuracy: 0.0273 - head_2_sparse_categorical_accuracy: 0.0455 - head_3_sparse_categorical_accuracy: 0.0333\n"
          ]
        },
        {
          "output_type": "execute_result",
          "data": {
            "text/plain": [
              "[7.050037860870361, 7.000533580780029, 0.027272727340459824]"
            ]
          },
          "metadata": {},
          "execution_count": 15
        }
      ],
      "source": [
        "#Evaluation on task2\n",
        "model1.evaluate(df_test_task2)[0:3]"
      ]
    },
    {
      "cell_type": "code",
      "execution_count": null,
      "metadata": {
        "colab": {
          "base_uri": "https://localhost:8080/"
        },
        "id": "cAJRArlrldYQ",
        "outputId": "7ab1da44-894e-4337-a147-db4ae2aa2e38"
      },
      "outputs": [
        {
          "output_type": "stream",
          "name": "stdout",
          "text": [
            "21/21 [==============================] - 99s 3s/step - loss: 6.7527 - head_1_loss: 6.7032 - head_1_sparse_categorical_accuracy: 0.0364 - head_2_sparse_categorical_accuracy: 0.0061 - head_3_sparse_categorical_accuracy: 0.0152\n"
          ]
        },
        {
          "output_type": "execute_result",
          "data": {
            "text/plain": [
              "[6.752744674682617, 6.703239440917969, 0.036363635212183]"
            ]
          },
          "metadata": {},
          "execution_count": 16
        }
      ],
      "source": [
        "#Evaluation on task3\n",
        "model1.evaluate(df_test_task3)[0:3]"
      ]
    },
    {
      "cell_type": "markdown",
      "metadata": {
        "id": "D3pTJzXBQogT"
      },
      "source": [
        "#### Accuracy on task1 is around 40%. We have seen as the performance on task 2 and 3 are very bad,  training the model just one task 1. So now we try to train task2, avoiding *Catastrophic Forgetting*. The model should be able to predict the new classes(task2) but still aware of predictions on task1.\n"
      ]
    },
    {
      "cell_type": "markdown",
      "metadata": {
        "id": "vyY3VGHJezje"
      },
      "source": [
        "### Define the way to calculate Fisher information Matrix"
      ]
    },
    {
      "cell_type": "code",
      "execution_count": null,
      "metadata": {
        "id": "09nKoRYSeuPz"
      },
      "outputs": [],
      "source": [
        "# Function to calculate Fisher information Matrix\n",
        "\n",
        "def Fisher_m(model, df, num_batches, batch_size):  #We set the num_batches according to how many batches we have in the train set (in case of task1: 149)\n",
        "  df = df.repeat()\n",
        "  F = {n: tf.zeros_like(p.value()) for n, p in enumerate(model.trainable_variables)}\n",
        "\n",
        "  for i, (imgs, target) in enumerate(df.take(num_batches)):\n",
        "    \n",
        "    with tf.GradientTape() as tape:\n",
        "      \n",
        "      preds = model(imgs)\n",
        "      ll = tf.nn.log_softmax(preds)\n",
        "\n",
        "    ll_grads = tape.gradient(ll, model.trainable_variables) \n",
        "\n",
        "    # Compute F_i as mean of gradients squared\n",
        "    for i, g in enumerate(ll_grads):\n",
        "      F[i] += tf.math.reduce_mean(g ** 2, axis=0) / num_batches\n",
        "\n",
        "  return F\n"
      ]
    },
    {
      "cell_type": "code",
      "execution_count": null,
      "metadata": {
        "id": "XxTQLdQ9euUt"
      },
      "outputs": [],
      "source": [
        "F = Fisher_m( model1 , df_train_task1 ,  112 , 32)  #112 batches in df_train_task1"
      ]
    },
    {
      "cell_type": "code",
      "execution_count": null,
      "metadata": {
        "colab": {
          "base_uri": "https://localhost:8080/"
        },
        "id": "TP0VyUEueuXN",
        "outputId": "a32bf2ba-5ec6-4974-dd02-744800fa70cb"
      },
      "outputs": [
        {
          "output_type": "stream",
          "name": "stdout",
          "text": [
            "21/21 [==============================] - 3s 85ms/step - loss: 2.0907 - head_1_loss: 2.0411 - head_1_sparse_categorical_accuracy: 0.4015 - head_2_sparse_categorical_accuracy: 0.0242 - head_3_sparse_categorical_accuracy: 0.0424\n",
            "21/21 [==============================] - 2s 81ms/step - loss: 7.0500 - head_1_loss: 7.0005 - head_1_sparse_categorical_accuracy: 0.0273 - head_2_sparse_categorical_accuracy: 0.0455 - head_3_sparse_categorical_accuracy: 0.0333\n",
            "21/21 [==============================] - 2s 82ms/step - loss: 6.7527 - head_1_loss: 6.7032 - head_1_sparse_categorical_accuracy: 0.0364 - head_2_sparse_categorical_accuracy: 0.0061 - head_3_sparse_categorical_accuracy: 0.0152\n"
          ]
        }
      ],
      "source": [
        "#Let's define the accuracy matrix from which at the end we will calculate GlobalAccuracy and BackwardTransfer\n",
        "R = np.zeros((n_tasks, n_tasks))\n",
        "\n",
        "#Let's add value that we already have available\n",
        "R[0][0] = model1.evaluate(df_test_task1)[2]\n",
        "R[1][0] = model1.evaluate(df_test_task2)[2]\n",
        "R[2][0] = model1.evaluate(df_test_task3)[2]"
      ]
    },
    {
      "cell_type": "markdown",
      "metadata": {
        "id": "l9HQFQeSli8j"
      },
      "source": [
        "Now we have the model trained on task1, let's try to modify the loss function in order to keep the main weights of the first model and learn the task2 avoiding Catastrophic Forgetting"
      ]
    },
    {
      "cell_type": "markdown",
      "metadata": {
        "id": "9RIRssU-jQdx"
      },
      "source": [
        "### Define a New Custom Loss Function in order to learn new parameters avoiding Catastrophic Forgetting"
      ]
    },
    {
      "cell_type": "code",
      "execution_count": null,
      "metadata": {
        "id": "4qLRvbT7giVn"
      },
      "outputs": [],
      "source": [
        "class EWC(tf.keras.losses.Loss):\n",
        "    def __init__(self, F, trainable_variables , old_weights, alpha = 25 ,  name=\"custom_mse\"):\n",
        "        super().__init__(name=name)\n",
        "        self.F = F\n",
        "        self.Theta = trainable_variables\n",
        "        self.old_weights = old_weights\n",
        "        self.alpha = alpha\n",
        "        \n",
        "    def call(self, y_true, y_pred):\n",
        "\n",
        "        #Normal loss function to learn parameters on task2\n",
        "        loss = losses.SparseCategoricalCrossentropy(from_logits=False)(y_true, y_pred)\n",
        "      \n",
        "        #Way to calculate CL penalty\n",
        "        penalty = 0\n",
        "        for i, theta_i in enumerate(self.Theta):\n",
        "          _penalty = tf.math.reduce_sum(self.F[i] * (theta_i - self.old_weights[i]) ** 2)\n",
        "          penalty += _penalty\n",
        "\n",
        "        #Final loss\n",
        "        loss = loss + 0.5*self.alpha*penalty\n",
        "        return loss"
      ]
    },
    {
      "cell_type": "markdown",
      "metadata": {
        "id": "as718wmIMPtJ"
      },
      "source": [
        "### **Train on Task2**"
      ]
    },
    {
      "cell_type": "code",
      "execution_count": null,
      "metadata": {
        "id": "pjHtap_Uiazd"
      },
      "outputs": [],
      "source": [
        "model1.compile( \n",
        "    loss=[ None , EWC( F , model1.trainable_variables , model1_weights), None ] , \n",
        "    optimizer=optimizers.Adam(),\n",
        "    metrics=[metrics.SparseCategoricalAccuracy() ]\n",
        " )"
      ]
    },
    {
      "cell_type": "code",
      "execution_count": null,
      "metadata": {
        "colab": {
          "base_uri": "https://localhost:8080/"
        },
        "id": "977GcQtmia2S",
        "outputId": "61d72392-8e83-40b0-a5ea-9b1e7c20a5fd"
      },
      "outputs": [
        {
          "output_type": "stream",
          "name": "stdout",
          "text": [
            "Epoch 1/70\n",
            "109/109 [==============================] - 623s 1s/step - loss: 3.2644 - head_2_loss: 3.2153 - head_1_sparse_categorical_accuracy: 0.0506 - head_2_sparse_categorical_accuracy: 0.1306 - head_3_sparse_categorical_accuracy: 0.0268 - val_loss: 3.0518 - val_head_2_loss: 3.0036 - val_head_1_sparse_categorical_accuracy: 0.0545 - val_head_2_sparse_categorical_accuracy: 0.1803 - val_head_3_sparse_categorical_accuracy: 0.0348\n",
            "Epoch 2/70\n",
            "109/109 [==============================] - 26s 151ms/step - loss: 2.7450 - head_2_loss: 2.6975 - head_1_sparse_categorical_accuracy: 0.0480 - head_2_sparse_categorical_accuracy: 0.2319 - head_3_sparse_categorical_accuracy: 0.0207 - val_loss: 2.6924 - val_head_2_loss: 2.6453 - val_head_1_sparse_categorical_accuracy: 0.0409 - val_head_2_sparse_categorical_accuracy: 0.2364 - val_head_3_sparse_categorical_accuracy: 0.0197\n",
            "Epoch 3/70\n",
            "109/109 [==============================] - 26s 152ms/step - loss: 2.4994 - head_2_loss: 2.4527 - head_1_sparse_categorical_accuracy: 0.0483 - head_2_sparse_categorical_accuracy: 0.2886 - head_3_sparse_categorical_accuracy: 0.0270 - val_loss: 2.5674 - val_head_2_loss: 2.5209 - val_head_1_sparse_categorical_accuracy: 0.0455 - val_head_2_sparse_categorical_accuracy: 0.2606 - val_head_3_sparse_categorical_accuracy: 0.0258\n",
            "Epoch 4/70\n",
            "109/109 [==============================] - 26s 151ms/step - loss: 2.3913 - head_2_loss: 2.3449 - head_1_sparse_categorical_accuracy: 0.0486 - head_2_sparse_categorical_accuracy: 0.3245 - head_3_sparse_categorical_accuracy: 0.0219 - val_loss: 2.5546 - val_head_2_loss: 2.5082 - val_head_1_sparse_categorical_accuracy: 0.0485 - val_head_2_sparse_categorical_accuracy: 0.2530 - val_head_3_sparse_categorical_accuracy: 0.0273\n",
            "Epoch 5/70\n",
            "109/109 [==============================] - 26s 152ms/step - loss: 2.2765 - head_2_loss: 2.2302 - head_1_sparse_categorical_accuracy: 0.0460 - head_2_sparse_categorical_accuracy: 0.3383 - head_3_sparse_categorical_accuracy: 0.0219 - val_loss: 2.5732 - val_head_2_loss: 2.5268 - val_head_1_sparse_categorical_accuracy: 0.0455 - val_head_2_sparse_categorical_accuracy: 0.2439 - val_head_3_sparse_categorical_accuracy: 0.0318\n",
            "Epoch 6/70\n",
            "109/109 [==============================] - 26s 151ms/step - loss: 2.2397 - head_2_loss: 2.1934 - head_1_sparse_categorical_accuracy: 0.0426 - head_2_sparse_categorical_accuracy: 0.3533 - head_3_sparse_categorical_accuracy: 0.0167 - val_loss: 2.2001 - val_head_2_loss: 2.1536 - val_head_1_sparse_categorical_accuracy: 0.0470 - val_head_2_sparse_categorical_accuracy: 0.3667 - val_head_3_sparse_categorical_accuracy: 0.0212\n",
            "Epoch 7/70\n",
            "109/109 [==============================] - 26s 152ms/step - loss: 2.1915 - head_2_loss: 2.1450 - head_1_sparse_categorical_accuracy: 0.0466 - head_2_sparse_categorical_accuracy: 0.3717 - head_3_sparse_categorical_accuracy: 0.0196 - val_loss: 2.4362 - val_head_2_loss: 2.3897 - val_head_1_sparse_categorical_accuracy: 0.0364 - val_head_2_sparse_categorical_accuracy: 0.3152 - val_head_3_sparse_categorical_accuracy: 0.0167\n",
            "Epoch 8/70\n",
            "109/109 [==============================] - 26s 152ms/step - loss: 2.1391 - head_2_loss: 2.0924 - head_1_sparse_categorical_accuracy: 0.0480 - head_2_sparse_categorical_accuracy: 0.3772 - head_3_sparse_categorical_accuracy: 0.0173 - val_loss: 2.1568 - val_head_2_loss: 2.1100 - val_head_1_sparse_categorical_accuracy: 0.0379 - val_head_2_sparse_categorical_accuracy: 0.4000 - val_head_3_sparse_categorical_accuracy: 0.0152\n",
            "Epoch 9/70\n",
            "109/109 [==============================] - 26s 152ms/step - loss: 2.0905 - head_2_loss: 2.0437 - head_1_sparse_categorical_accuracy: 0.0420 - head_2_sparse_categorical_accuracy: 0.3869 - head_3_sparse_categorical_accuracy: 0.0207 - val_loss: 2.1612 - val_head_2_loss: 2.1143 - val_head_1_sparse_categorical_accuracy: 0.0333 - val_head_2_sparse_categorical_accuracy: 0.3712 - val_head_3_sparse_categorical_accuracy: 0.0076\n",
            "Epoch 10/70\n",
            "109/109 [==============================] - 26s 153ms/step - loss: 2.0535 - head_2_loss: 2.0064 - head_1_sparse_categorical_accuracy: 0.0432 - head_2_sparse_categorical_accuracy: 0.3999 - head_3_sparse_categorical_accuracy: 0.0190 - val_loss: 2.7262 - val_head_2_loss: 2.6788 - val_head_1_sparse_categorical_accuracy: 0.0364 - val_head_2_sparse_categorical_accuracy: 0.2500 - val_head_3_sparse_categorical_accuracy: 0.0167\n",
            "Epoch 11/70\n",
            "109/109 [==============================] - 26s 152ms/step - loss: 2.0374 - head_2_loss: 1.9899 - head_1_sparse_categorical_accuracy: 0.0440 - head_2_sparse_categorical_accuracy: 0.4082 - head_3_sparse_categorical_accuracy: 0.0175 - val_loss: 2.1236 - val_head_2_loss: 2.0760 - val_head_1_sparse_categorical_accuracy: 0.0561 - val_head_2_sparse_categorical_accuracy: 0.3924 - val_head_3_sparse_categorical_accuracy: 0.0167\n",
            "Epoch 12/70\n",
            "109/109 [==============================] - 26s 152ms/step - loss: 2.0180 - head_2_loss: 1.9703 - head_1_sparse_categorical_accuracy: 0.0414 - head_2_sparse_categorical_accuracy: 0.4148 - head_3_sparse_categorical_accuracy: 0.0152 - val_loss: 2.2432 - val_head_2_loss: 2.1955 - val_head_1_sparse_categorical_accuracy: 0.0348 - val_head_2_sparse_categorical_accuracy: 0.3500 - val_head_3_sparse_categorical_accuracy: 0.0121\n",
            "Epoch 13/70\n",
            "109/109 [==============================] - 26s 152ms/step - loss: 1.9693 - head_2_loss: 1.9214 - head_1_sparse_categorical_accuracy: 0.0348 - head_2_sparse_categorical_accuracy: 0.4310 - head_3_sparse_categorical_accuracy: 0.0147 - val_loss: 2.1570 - val_head_2_loss: 2.1092 - val_head_1_sparse_categorical_accuracy: 0.0288 - val_head_2_sparse_categorical_accuracy: 0.3833 - val_head_3_sparse_categorical_accuracy: 0.0091\n",
            "Epoch 14/70\n",
            "109/109 [==============================] - 26s 152ms/step - loss: 1.9697 - head_2_loss: 1.9216 - head_1_sparse_categorical_accuracy: 0.0446 - head_2_sparse_categorical_accuracy: 0.4287 - head_3_sparse_categorical_accuracy: 0.0135 - val_loss: 2.3865 - val_head_2_loss: 2.3381 - val_head_1_sparse_categorical_accuracy: 0.0348 - val_head_2_sparse_categorical_accuracy: 0.3470 - val_head_3_sparse_categorical_accuracy: 0.0197\n",
            "Epoch 15/70\n",
            "109/109 [==============================] - 26s 151ms/step - loss: 1.9569 - head_2_loss: 1.9082 - head_1_sparse_categorical_accuracy: 0.0449 - head_2_sparse_categorical_accuracy: 0.4292 - head_3_sparse_categorical_accuracy: 0.0170 - val_loss: 2.3232 - val_head_2_loss: 2.2744 - val_head_1_sparse_categorical_accuracy: 0.0485 - val_head_2_sparse_categorical_accuracy: 0.3439 - val_head_3_sparse_categorical_accuracy: 0.0152\n",
            "Epoch 16/70\n",
            "109/109 [==============================] - 26s 151ms/step - loss: 1.9115 - head_2_loss: 1.8625 - head_1_sparse_categorical_accuracy: 0.0383 - head_2_sparse_categorical_accuracy: 0.4413 - head_3_sparse_categorical_accuracy: 0.0227 - val_loss: 2.2864 - val_head_2_loss: 2.2370 - val_head_1_sparse_categorical_accuracy: 0.0424 - val_head_2_sparse_categorical_accuracy: 0.3333 - val_head_3_sparse_categorical_accuracy: 0.0106\n",
            "Epoch 17/70\n",
            "109/109 [==============================] - 26s 154ms/step - loss: 1.8947 - head_2_loss: 1.8450 - head_1_sparse_categorical_accuracy: 0.0434 - head_2_sparse_categorical_accuracy: 0.4517 - head_3_sparse_categorical_accuracy: 0.0152 - val_loss: 2.0483 - val_head_2_loss: 1.9986 - val_head_1_sparse_categorical_accuracy: 0.0455 - val_head_2_sparse_categorical_accuracy: 0.4333 - val_head_3_sparse_categorical_accuracy: 0.0061\n",
            "Epoch 18/70\n",
            "109/109 [==============================] - 26s 152ms/step - loss: 1.8611 - head_2_loss: 1.8113 - head_1_sparse_categorical_accuracy: 0.0434 - head_2_sparse_categorical_accuracy: 0.4603 - head_3_sparse_categorical_accuracy: 0.0150 - val_loss: 2.0031 - val_head_2_loss: 1.9532 - val_head_1_sparse_categorical_accuracy: 0.0409 - val_head_2_sparse_categorical_accuracy: 0.4242 - val_head_3_sparse_categorical_accuracy: 0.0121\n",
            "Epoch 19/70\n",
            "109/109 [==============================] - 26s 153ms/step - loss: 1.8454 - head_2_loss: 1.7954 - head_1_sparse_categorical_accuracy: 0.0406 - head_2_sparse_categorical_accuracy: 0.4528 - head_3_sparse_categorical_accuracy: 0.0193 - val_loss: 3.4002 - val_head_2_loss: 3.3501 - val_head_1_sparse_categorical_accuracy: 0.0227 - val_head_2_sparse_categorical_accuracy: 0.2121 - val_head_3_sparse_categorical_accuracy: 0.0197\n",
            "Epoch 20/70\n",
            "109/109 [==============================] - 26s 152ms/step - loss: 1.8582 - head_2_loss: 1.8078 - head_1_sparse_categorical_accuracy: 0.0403 - head_2_sparse_categorical_accuracy: 0.4617 - head_3_sparse_categorical_accuracy: 0.0196 - val_loss: 2.1569 - val_head_2_loss: 2.1061 - val_head_1_sparse_categorical_accuracy: 0.0439 - val_head_2_sparse_categorical_accuracy: 0.3833 - val_head_3_sparse_categorical_accuracy: 0.0197\n",
            "Epoch 21/70\n",
            "109/109 [==============================] - 28s 167ms/step - loss: 1.8388 - head_2_loss: 1.7878 - head_1_sparse_categorical_accuracy: 0.0406 - head_2_sparse_categorical_accuracy: 0.4603 - head_3_sparse_categorical_accuracy: 0.0170 - val_loss: 2.0628 - val_head_2_loss: 2.0117 - val_head_1_sparse_categorical_accuracy: 0.0303 - val_head_2_sparse_categorical_accuracy: 0.4091 - val_head_3_sparse_categorical_accuracy: 0.0106\n",
            "Epoch 22/70\n",
            "109/109 [==============================] - 31s 164ms/step - loss: 1.8444 - head_2_loss: 1.7930 - head_1_sparse_categorical_accuracy: 0.0434 - head_2_sparse_categorical_accuracy: 0.4704 - head_3_sparse_categorical_accuracy: 0.0124 - val_loss: 1.9331 - val_head_2_loss: 1.8813 - val_head_1_sparse_categorical_accuracy: 0.0470 - val_head_2_sparse_categorical_accuracy: 0.4591 - val_head_3_sparse_categorical_accuracy: 0.0152\n",
            "Epoch 23/70\n",
            "109/109 [==============================] - 26s 153ms/step - loss: 1.7782 - head_2_loss: 1.7263 - head_1_sparse_categorical_accuracy: 0.0434 - head_2_sparse_categorical_accuracy: 0.4784 - head_3_sparse_categorical_accuracy: 0.0152 - val_loss: 2.0174 - val_head_2_loss: 1.9653 - val_head_1_sparse_categorical_accuracy: 0.0455 - val_head_2_sparse_categorical_accuracy: 0.4182 - val_head_3_sparse_categorical_accuracy: 0.0182\n",
            "Epoch 24/70\n",
            "109/109 [==============================] - 26s 152ms/step - loss: 1.7902 - head_2_loss: 1.7380 - head_1_sparse_categorical_accuracy: 0.0434 - head_2_sparse_categorical_accuracy: 0.4773 - head_3_sparse_categorical_accuracy: 0.0201 - val_loss: 2.7376 - val_head_2_loss: 2.6851 - val_head_1_sparse_categorical_accuracy: 0.0424 - val_head_2_sparse_categorical_accuracy: 0.2788 - val_head_3_sparse_categorical_accuracy: 0.0212\n",
            "Epoch 25/70\n",
            "109/109 [==============================] - 27s 156ms/step - loss: 1.7810 - head_2_loss: 1.7285 - head_1_sparse_categorical_accuracy: 0.0414 - head_2_sparse_categorical_accuracy: 0.4784 - head_3_sparse_categorical_accuracy: 0.0216 - val_loss: 1.8602 - val_head_2_loss: 1.8076 - val_head_1_sparse_categorical_accuracy: 0.0500 - val_head_2_sparse_categorical_accuracy: 0.4591 - val_head_3_sparse_categorical_accuracy: 0.0167\n",
            "Epoch 26/70\n",
            "109/109 [==============================] - 26s 154ms/step - loss: 1.7778 - head_2_loss: 1.7250 - head_1_sparse_categorical_accuracy: 0.0434 - head_2_sparse_categorical_accuracy: 0.4724 - head_3_sparse_categorical_accuracy: 0.0184 - val_loss: 2.4988 - val_head_2_loss: 2.4457 - val_head_1_sparse_categorical_accuracy: 0.0303 - val_head_2_sparse_categorical_accuracy: 0.3258 - val_head_3_sparse_categorical_accuracy: 0.0106\n",
            "Epoch 27/70\n",
            "109/109 [==============================] - 26s 152ms/step - loss: 1.7449 - head_2_loss: 1.6916 - head_1_sparse_categorical_accuracy: 0.0440 - head_2_sparse_categorical_accuracy: 0.4868 - head_3_sparse_categorical_accuracy: 0.0150 - val_loss: 2.4019 - val_head_2_loss: 2.3484 - val_head_1_sparse_categorical_accuracy: 0.0348 - val_head_2_sparse_categorical_accuracy: 0.3227 - val_head_3_sparse_categorical_accuracy: 0.0182\n",
            "Epoch 28/70\n",
            "109/109 [==============================] - 27s 153ms/step - loss: 1.7493 - head_2_loss: 1.6955 - head_1_sparse_categorical_accuracy: 0.0403 - head_2_sparse_categorical_accuracy: 0.4882 - head_3_sparse_categorical_accuracy: 0.0152 - val_loss: 2.2129 - val_head_2_loss: 2.1589 - val_head_1_sparse_categorical_accuracy: 0.0439 - val_head_2_sparse_categorical_accuracy: 0.3591 - val_head_3_sparse_categorical_accuracy: 0.0182\n",
            "Epoch 29/70\n",
            "109/109 [==============================] - 26s 152ms/step - loss: 1.7272 - head_2_loss: 1.6732 - head_1_sparse_categorical_accuracy: 0.0475 - head_2_sparse_categorical_accuracy: 0.4873 - head_3_sparse_categorical_accuracy: 0.0170 - val_loss: 2.2716 - val_head_2_loss: 2.2176 - val_head_1_sparse_categorical_accuracy: 0.0273 - val_head_2_sparse_categorical_accuracy: 0.3515 - val_head_3_sparse_categorical_accuracy: 0.0152\n",
            "Epoch 30/70\n",
            "109/109 [==============================] - 26s 153ms/step - loss: 1.7260 - head_2_loss: 1.6718 - head_1_sparse_categorical_accuracy: 0.0478 - head_2_sparse_categorical_accuracy: 0.4960 - head_3_sparse_categorical_accuracy: 0.0178 - val_loss: 2.1626 - val_head_2_loss: 2.1082 - val_head_1_sparse_categorical_accuracy: 0.0424 - val_head_2_sparse_categorical_accuracy: 0.4182 - val_head_3_sparse_categorical_accuracy: 0.0273\n",
            "Epoch 31/70\n",
            "109/109 [==============================] - 26s 152ms/step - loss: 1.6983 - head_2_loss: 1.6438 - head_1_sparse_categorical_accuracy: 0.0423 - head_2_sparse_categorical_accuracy: 0.5023 - head_3_sparse_categorical_accuracy: 0.0193 - val_loss: 2.6817 - val_head_2_loss: 2.6269 - val_head_1_sparse_categorical_accuracy: 0.0288 - val_head_2_sparse_categorical_accuracy: 0.2803 - val_head_3_sparse_categorical_accuracy: 0.0197\n",
            "Epoch 32/70\n",
            "109/109 [==============================] - 26s 154ms/step - loss: 1.7210 - head_2_loss: 1.6660 - head_1_sparse_categorical_accuracy: 0.0414 - head_2_sparse_categorical_accuracy: 0.5029 - head_3_sparse_categorical_accuracy: 0.0184 - val_loss: 3.8991 - val_head_2_loss: 3.8439 - val_head_1_sparse_categorical_accuracy: 0.0576 - val_head_2_sparse_categorical_accuracy: 0.1727 - val_head_3_sparse_categorical_accuracy: 0.0333\n",
            "Epoch 33/70\n",
            "109/109 [==============================] - 26s 152ms/step - loss: 1.6618 - head_2_loss: 1.6066 - head_1_sparse_categorical_accuracy: 0.0486 - head_2_sparse_categorical_accuracy: 0.5147 - head_3_sparse_categorical_accuracy: 0.0170 - val_loss: 1.9869 - val_head_2_loss: 1.9316 - val_head_1_sparse_categorical_accuracy: 0.0485 - val_head_2_sparse_categorical_accuracy: 0.4318 - val_head_3_sparse_categorical_accuracy: 0.0242\n",
            "Epoch 34/70\n",
            "109/109 [==============================] - 26s 153ms/step - loss: 1.6880 - head_2_loss: 1.6327 - head_1_sparse_categorical_accuracy: 0.0426 - head_2_sparse_categorical_accuracy: 0.4994 - head_3_sparse_categorical_accuracy: 0.0196 - val_loss: 2.0138 - val_head_2_loss: 1.9582 - val_head_1_sparse_categorical_accuracy: 0.0439 - val_head_2_sparse_categorical_accuracy: 0.4303 - val_head_3_sparse_categorical_accuracy: 0.0288\n",
            "Epoch 35/70\n",
            "109/109 [==============================] - 26s 153ms/step - loss: 1.6456 - head_2_loss: 1.5899 - head_1_sparse_categorical_accuracy: 0.0434 - head_2_sparse_categorical_accuracy: 0.5141 - head_3_sparse_categorical_accuracy: 0.0201 - val_loss: 2.0981 - val_head_2_loss: 2.0422 - val_head_1_sparse_categorical_accuracy: 0.0364 - val_head_2_sparse_categorical_accuracy: 0.4136 - val_head_3_sparse_categorical_accuracy: 0.0242\n",
            "Epoch 36/70\n",
            "109/109 [==============================] - 26s 152ms/step - loss: 1.6726 - head_2_loss: 1.6165 - head_1_sparse_categorical_accuracy: 0.0446 - head_2_sparse_categorical_accuracy: 0.5129 - head_3_sparse_categorical_accuracy: 0.0178 - val_loss: 2.1530 - val_head_2_loss: 2.0967 - val_head_1_sparse_categorical_accuracy: 0.0530 - val_head_2_sparse_categorical_accuracy: 0.3955 - val_head_3_sparse_categorical_accuracy: 0.0242\n",
            "Epoch 37/70\n",
            "109/109 [==============================] - 26s 152ms/step - loss: 1.6328 - head_2_loss: 1.5763 - head_1_sparse_categorical_accuracy: 0.0443 - head_2_sparse_categorical_accuracy: 0.5175 - head_3_sparse_categorical_accuracy: 0.0204 - val_loss: 2.0289 - val_head_2_loss: 1.9724 - val_head_1_sparse_categorical_accuracy: 0.0515 - val_head_2_sparse_categorical_accuracy: 0.4061 - val_head_3_sparse_categorical_accuracy: 0.0364\n",
            "Epoch 38/70\n",
            "109/109 [==============================] - 26s 153ms/step - loss: 1.6245 - head_2_loss: 1.5679 - head_1_sparse_categorical_accuracy: 0.0414 - head_2_sparse_categorical_accuracy: 0.5291 - head_3_sparse_categorical_accuracy: 0.0155 - val_loss: 2.1818 - val_head_2_loss: 2.1249 - val_head_1_sparse_categorical_accuracy: 0.0652 - val_head_2_sparse_categorical_accuracy: 0.3773 - val_head_3_sparse_categorical_accuracy: 0.0273\n",
            "Epoch 39/70\n",
            "109/109 [==============================] - 26s 153ms/step - loss: 1.6142 - head_2_loss: 1.5573 - head_1_sparse_categorical_accuracy: 0.0440 - head_2_sparse_categorical_accuracy: 0.5227 - head_3_sparse_categorical_accuracy: 0.0173 - val_loss: 2.9339 - val_head_2_loss: 2.8768 - val_head_1_sparse_categorical_accuracy: 0.0682 - val_head_2_sparse_categorical_accuracy: 0.2894 - val_head_3_sparse_categorical_accuracy: 0.0348\n",
            "Epoch 40/70\n",
            "109/109 [==============================] - 26s 152ms/step - loss: 1.6211 - head_2_loss: 1.5638 - head_1_sparse_categorical_accuracy: 0.0388 - head_2_sparse_categorical_accuracy: 0.5170 - head_3_sparse_categorical_accuracy: 0.0201 - val_loss: 2.6046 - val_head_2_loss: 2.5470 - val_head_1_sparse_categorical_accuracy: 0.0561 - val_head_2_sparse_categorical_accuracy: 0.3212 - val_head_3_sparse_categorical_accuracy: 0.0242\n",
            "Epoch 41/70\n",
            "109/109 [==============================] - 26s 152ms/step - loss: 1.6313 - head_2_loss: 1.5736 - head_1_sparse_categorical_accuracy: 0.0434 - head_2_sparse_categorical_accuracy: 0.5342 - head_3_sparse_categorical_accuracy: 0.0216 - val_loss: 3.0108 - val_head_2_loss: 2.9528 - val_head_1_sparse_categorical_accuracy: 0.0136 - val_head_2_sparse_categorical_accuracy: 0.2803 - val_head_3_sparse_categorical_accuracy: 0.0333\n",
            "Epoch 42/70\n",
            "109/109 [==============================] - 26s 156ms/step - loss: 1.6226 - head_2_loss: 1.5644 - head_1_sparse_categorical_accuracy: 0.0420 - head_2_sparse_categorical_accuracy: 0.5247 - head_3_sparse_categorical_accuracy: 0.0187 - val_loss: 2.0032 - val_head_2_loss: 1.9448 - val_head_1_sparse_categorical_accuracy: 0.0348 - val_head_2_sparse_categorical_accuracy: 0.4212 - val_head_3_sparse_categorical_accuracy: 0.0167\n",
            "Epoch 43/70\n",
            "109/109 [==============================] - 26s 152ms/step - loss: 1.5866 - head_2_loss: 1.5281 - head_1_sparse_categorical_accuracy: 0.0443 - head_2_sparse_categorical_accuracy: 0.5348 - head_3_sparse_categorical_accuracy: 0.0170 - val_loss: 2.1849 - val_head_2_loss: 2.1261 - val_head_1_sparse_categorical_accuracy: 0.0424 - val_head_2_sparse_categorical_accuracy: 0.3727 - val_head_3_sparse_categorical_accuracy: 0.0409\n",
            "Epoch 44/70\n",
            "109/109 [==============================] - 26s 153ms/step - loss: 1.5892 - head_2_loss: 1.5303 - head_1_sparse_categorical_accuracy: 0.0434 - head_2_sparse_categorical_accuracy: 0.5380 - head_3_sparse_categorical_accuracy: 0.0184 - val_loss: 2.5258 - val_head_2_loss: 2.4668 - val_head_1_sparse_categorical_accuracy: 0.0242 - val_head_2_sparse_categorical_accuracy: 0.3258 - val_head_3_sparse_categorical_accuracy: 0.0424\n",
            "Epoch 45/70\n",
            "109/109 [==============================] - ETA: 0s - loss: 1.5556 - head_2_loss: 1.4965 - head_1_sparse_categorical_accuracy: 0.0414 - head_2_sparse_categorical_accuracy: 0.5432 - head_3_sparse_categorical_accuracy: 0.0193Restoring model weights from the end of the best epoch: 22.\n",
            "109/109 [==============================] - 26s 154ms/step - loss: 1.5556 - head_2_loss: 1.4965 - head_1_sparse_categorical_accuracy: 0.0414 - head_2_sparse_categorical_accuracy: 0.5432 - head_3_sparse_categorical_accuracy: 0.0193 - val_loss: 1.9351 - val_head_2_loss: 1.8759 - val_head_1_sparse_categorical_accuracy: 0.0379 - val_head_2_sparse_categorical_accuracy: 0.4394 - val_head_3_sparse_categorical_accuracy: 0.0212\n",
            "Epoch 45: early stopping\n"
          ]
        },
        {
          "output_type": "execute_result",
          "data": {
            "text/plain": [
              "<keras.callbacks.History at 0x7f1f900c9210>"
            ]
          },
          "metadata": {},
          "execution_count": 22
        }
      ],
      "source": [
        "model1.fit(  \n",
        "    df_train_task2,\n",
        "    epochs=70,\n",
        "    validation_data=df_val_task2,\n",
        "    callbacks=cbs3\n",
        ")"
      ]
    },
    {
      "cell_type": "code",
      "execution_count": null,
      "metadata": {
        "id": "EnkJ8X2Dia4w"
      },
      "outputs": [],
      "source": [
        "model1_weights_2 = model1.trainable_variables.copy()"
      ]
    },
    {
      "cell_type": "code",
      "execution_count": null,
      "metadata": {
        "id": "-Az1S8sMm5M3"
      },
      "outputs": [],
      "source": [
        "model1.save_weights('./drive/MyDrive/Colab Notebooks/checkpoints/weights2')"
      ]
    },
    {
      "cell_type": "markdown",
      "metadata": {
        "id": "YXBIiQhlKEu2"
      },
      "source": [
        "#### **Considerations**\n",
        "\n",
        "Now, in theory, the model should have learned to classify the images related to task2, remembering how to classify those of task1. We therefore expect the performance on task1 to be obviously worse than the previous training, but without Catastrophic Forgetting and the performance on task2 to be good, but not as good as the previous one we saw on task1, training the model only on the first dataset.\n",
        "\n",
        "On task3, of course, we should have still very bad performance, because the model is not trained at all on that taks\n",
        "\n"
      ]
    },
    {
      "cell_type": "code",
      "execution_count": null,
      "metadata": {
        "colab": {
          "base_uri": "https://localhost:8080/"
        },
        "id": "BFQC7wilia8F",
        "outputId": "cfaa866c-0634-4f5c-b92d-ba7b95cdc0ea"
      },
      "outputs": [
        {
          "output_type": "stream",
          "name": "stdout",
          "text": [
            "21/21 [==============================] - 3s 86ms/step - loss: 5.6513 - head_2_loss: 5.5995 - head_1_sparse_categorical_accuracy: 0.2348 - head_2_sparse_categorical_accuracy: 0.0227 - head_3_sparse_categorical_accuracy: 0.0273\n"
          ]
        },
        {
          "output_type": "execute_result",
          "data": {
            "text/plain": [
              "[5.6512603759765625,\n",
              " 5.599513530731201,\n",
              " 0.2348484843969345,\n",
              " 0.022727273404598236,\n",
              " 0.027272727340459824]"
            ]
          },
          "metadata": {},
          "execution_count": 25
        }
      ],
      "source": [
        "model1.evaluate(df_test_task1)"
      ]
    },
    {
      "cell_type": "code",
      "execution_count": null,
      "metadata": {
        "colab": {
          "base_uri": "https://localhost:8080/"
        },
        "id": "eWtCuiOyONHh",
        "outputId": "3a0a1bc6-67cb-44eb-e5bd-57149b235564"
      },
      "outputs": [
        {
          "output_type": "stream",
          "name": "stdout",
          "text": [
            "21/21 [==============================] - 2s 81ms/step - loss: 1.9674 - head_2_loss: 1.9156 - head_1_sparse_categorical_accuracy: 0.0409 - head_2_sparse_categorical_accuracy: 0.4364 - head_3_sparse_categorical_accuracy: 0.0152\n"
          ]
        },
        {
          "output_type": "execute_result",
          "data": {
            "text/plain": [
              "[1.9673727750778198,\n",
              " 1.9156266450881958,\n",
              " 0.040909089148044586,\n",
              " 0.4363636374473572,\n",
              " 0.01515151560306549]"
            ]
          },
          "metadata": {},
          "execution_count": 26
        }
      ],
      "source": [
        "model1.evaluate(df_test_task2)"
      ]
    },
    {
      "cell_type": "code",
      "execution_count": null,
      "metadata": {
        "colab": {
          "base_uri": "https://localhost:8080/"
        },
        "id": "0tCx4SnEibIt",
        "outputId": "09425add-3c4e-4d68-ad18-c3a1863e6cce"
      },
      "outputs": [
        {
          "output_type": "stream",
          "name": "stdout",
          "text": [
            "21/21 [==============================] - 3s 84ms/step - loss: 5.8829 - head_2_loss: 5.8311 - head_1_sparse_categorical_accuracy: 0.0500 - head_2_sparse_categorical_accuracy: 0.0364 - head_3_sparse_categorical_accuracy: 0.0242\n"
          ]
        },
        {
          "output_type": "execute_result",
          "data": {
            "text/plain": [
              "[5.882880687713623,\n",
              " 5.831134796142578,\n",
              " 0.05000000074505806,\n",
              " 0.036363635212183,\n",
              " 0.024242423474788666]"
            ]
          },
          "metadata": {},
          "execution_count": 27
        }
      ],
      "source": [
        "model1.evaluate(df_test_task3)"
      ]
    },
    {
      "cell_type": "markdown",
      "metadata": {
        "id": "97Msx5XQLVkz"
      },
      "source": [
        "Although we have rather low absolute accuracy values, we can see the trend that was mentioned before"
      ]
    },
    {
      "cell_type": "code",
      "execution_count": null,
      "metadata": {
        "colab": {
          "base_uri": "https://localhost:8080/"
        },
        "id": "6_h2REB3LoG-",
        "outputId": "3c355186-8774-4103-d318-89caced72de9"
      },
      "outputs": [
        {
          "output_type": "stream",
          "name": "stdout",
          "text": [
            "21/21 [==============================] - 2s 81ms/step - loss: 5.6513 - head_2_loss: 5.5995 - head_1_sparse_categorical_accuracy: 0.2348 - head_2_sparse_categorical_accuracy: 0.0227 - head_3_sparse_categorical_accuracy: 0.0273\n",
            "21/21 [==============================] - 2s 80ms/step - loss: 1.9674 - head_2_loss: 1.9156 - head_1_sparse_categorical_accuracy: 0.0409 - head_2_sparse_categorical_accuracy: 0.4364 - head_3_sparse_categorical_accuracy: 0.0152\n",
            "21/21 [==============================] - 2s 82ms/step - loss: 5.8829 - head_2_loss: 5.8311 - head_1_sparse_categorical_accuracy: 0.0500 - head_2_sparse_categorical_accuracy: 0.0364 - head_3_sparse_categorical_accuracy: 0.0242\n"
          ]
        }
      ],
      "source": [
        "#Let's update matrix - R\n",
        "\n",
        "R[0][1] = model1.evaluate(df_test_task1)[2]\n",
        "R[1][1] = model1.evaluate(df_test_task2)[3]\n",
        "R[2][1] = model1.evaluate(df_test_task3)[3]"
      ]
    },
    {
      "cell_type": "markdown",
      "source": [
        "**Accuracy on task1**: 0.2348\n",
        "\n",
        "**Accuracy on task2**: 0.4364\n"
      ],
      "metadata": {
        "id": "WVZv3_GZQJTA"
      }
    },
    {
      "cell_type": "markdown",
      "metadata": {
        "id": "dGc3gDfDMDhz"
      },
      "source": [
        "### **Train on Task3**"
      ]
    },
    {
      "cell_type": "code",
      "execution_count": null,
      "metadata": {
        "id": "fzy4NyZ2MI3E"
      },
      "outputs": [],
      "source": [
        "F2 = Fisher_m( model1 , df_train_task2 ,  109 , 32) #109 batches in df_train_task2"
      ]
    },
    {
      "cell_type": "code",
      "execution_count": null,
      "metadata": {
        "id": "eliXNx_xMI54"
      },
      "outputs": [],
      "source": [
        "model1.compile( \n",
        "    loss=[None , None , EWC( F2 , model1.trainable_variables , model1_weights_2)],\n",
        "    optimizer=optimizers.Adam(),\n",
        "    metrics=[metrics.SparseCategoricalAccuracy()]\n",
        " )"
      ]
    },
    {
      "cell_type": "code",
      "execution_count": null,
      "metadata": {
        "colab": {
          "base_uri": "https://localhost:8080/"
        },
        "id": "uftes5yPMI-V",
        "outputId": "c5724590-bb15-4655-8150-0b6faeb7ca8d"
      },
      "outputs": [
        {
          "output_type": "stream",
          "name": "stdout",
          "text": [
            "Epoch 1/70\n",
            "109/109 [==============================] - 644s 1s/step - loss: 3.2405 - head_3_loss: 3.1891 - head_1_sparse_categorical_accuracy: 0.0446 - head_2_sparse_categorical_accuracy: 0.0379 - head_3_sparse_categorical_accuracy: 0.1345 - val_loss: 2.9066 - val_head_3_loss: 2.8564 - val_head_1_sparse_categorical_accuracy: 0.0500 - val_head_2_sparse_categorical_accuracy: 0.0364 - val_head_3_sparse_categorical_accuracy: 0.1742\n",
            "Epoch 2/70\n",
            "109/109 [==============================] - 26s 152ms/step - loss: 2.6082 - head_3_loss: 2.5585 - head_1_sparse_categorical_accuracy: 0.0437 - head_2_sparse_categorical_accuracy: 0.0299 - head_3_sparse_categorical_accuracy: 0.2688 - val_loss: 2.5811 - val_head_3_loss: 2.5319 - val_head_1_sparse_categorical_accuracy: 0.0621 - val_head_2_sparse_categorical_accuracy: 0.0152 - val_head_3_sparse_categorical_accuracy: 0.2500\n",
            "Epoch 3/70\n",
            "109/109 [==============================] - 26s 151ms/step - loss: 2.3828 - head_3_loss: 2.3340 - head_1_sparse_categorical_accuracy: 0.0443 - head_2_sparse_categorical_accuracy: 0.0259 - head_3_sparse_categorical_accuracy: 0.3193 - val_loss: 3.1173 - val_head_3_loss: 3.0688 - val_head_1_sparse_categorical_accuracy: 0.0258 - val_head_2_sparse_categorical_accuracy: 0.0197 - val_head_3_sparse_categorical_accuracy: 0.2136\n",
            "Epoch 4/70\n",
            "109/109 [==============================] - 26s 152ms/step - loss: 2.2408 - head_3_loss: 2.1921 - head_1_sparse_categorical_accuracy: 0.0443 - head_2_sparse_categorical_accuracy: 0.0207 - head_3_sparse_categorical_accuracy: 0.3418 - val_loss: 2.5242 - val_head_3_loss: 2.4755 - val_head_1_sparse_categorical_accuracy: 0.0348 - val_head_2_sparse_categorical_accuracy: 0.0333 - val_head_3_sparse_categorical_accuracy: 0.2803\n",
            "Epoch 5/70\n",
            "109/109 [==============================] - 26s 151ms/step - loss: 2.1555 - head_3_loss: 2.1068 - head_1_sparse_categorical_accuracy: 0.0460 - head_2_sparse_categorical_accuracy: 0.0178 - head_3_sparse_categorical_accuracy: 0.3794 - val_loss: 2.5427 - val_head_3_loss: 2.4941 - val_head_1_sparse_categorical_accuracy: 0.0303 - val_head_2_sparse_categorical_accuracy: 0.0167 - val_head_3_sparse_categorical_accuracy: 0.2970\n",
            "Epoch 6/70\n",
            "109/109 [==============================] - 26s 152ms/step - loss: 2.0753 - head_3_loss: 2.0264 - head_1_sparse_categorical_accuracy: 0.0460 - head_2_sparse_categorical_accuracy: 0.0227 - head_3_sparse_categorical_accuracy: 0.3834 - val_loss: 2.1179 - val_head_3_loss: 2.0688 - val_head_1_sparse_categorical_accuracy: 0.0485 - val_head_2_sparse_categorical_accuracy: 0.0197 - val_head_3_sparse_categorical_accuracy: 0.3788\n",
            "Epoch 7/70\n",
            "109/109 [==============================] - 26s 151ms/step - loss: 2.0520 - head_3_loss: 2.0028 - head_1_sparse_categorical_accuracy: 0.0400 - head_2_sparse_categorical_accuracy: 0.0218 - head_3_sparse_categorical_accuracy: 0.4062 - val_loss: 2.4133 - val_head_3_loss: 2.3638 - val_head_1_sparse_categorical_accuracy: 0.0621 - val_head_2_sparse_categorical_accuracy: 0.0136 - val_head_3_sparse_categorical_accuracy: 0.3167\n",
            "Epoch 8/70\n",
            "109/109 [==============================] - 26s 151ms/step - loss: 1.9760 - head_3_loss: 1.9266 - head_1_sparse_categorical_accuracy: 0.0388 - head_2_sparse_categorical_accuracy: 0.0181 - head_3_sparse_categorical_accuracy: 0.4136 - val_loss: 2.0685 - val_head_3_loss: 2.0190 - val_head_1_sparse_categorical_accuracy: 0.0348 - val_head_2_sparse_categorical_accuracy: 0.0197 - val_head_3_sparse_categorical_accuracy: 0.3667\n",
            "Epoch 9/70\n",
            "109/109 [==============================] - 26s 150ms/step - loss: 1.9374 - head_3_loss: 1.8880 - head_1_sparse_categorical_accuracy: 0.0440 - head_2_sparse_categorical_accuracy: 0.0161 - head_3_sparse_categorical_accuracy: 0.4234 - val_loss: 2.1575 - val_head_3_loss: 2.1082 - val_head_1_sparse_categorical_accuracy: 0.0500 - val_head_2_sparse_categorical_accuracy: 0.0197 - val_head_3_sparse_categorical_accuracy: 0.3515\n",
            "Epoch 10/70\n",
            "109/109 [==============================] - 26s 151ms/step - loss: 1.9215 - head_3_loss: 1.8723 - head_1_sparse_categorical_accuracy: 0.0440 - head_2_sparse_categorical_accuracy: 0.0184 - head_3_sparse_categorical_accuracy: 0.4248 - val_loss: 3.0412 - val_head_3_loss: 2.9919 - val_head_1_sparse_categorical_accuracy: 0.0303 - val_head_2_sparse_categorical_accuracy: 0.0379 - val_head_3_sparse_categorical_accuracy: 0.2500\n",
            "Epoch 11/70\n",
            "109/109 [==============================] - 26s 154ms/step - loss: 1.8866 - head_3_loss: 1.8374 - head_1_sparse_categorical_accuracy: 0.0437 - head_2_sparse_categorical_accuracy: 0.0250 - head_3_sparse_categorical_accuracy: 0.4424 - val_loss: 1.9493 - val_head_3_loss: 1.9000 - val_head_1_sparse_categorical_accuracy: 0.0394 - val_head_2_sparse_categorical_accuracy: 0.0197 - val_head_3_sparse_categorical_accuracy: 0.4045\n",
            "Epoch 12/70\n",
            "109/109 [==============================] - 26s 151ms/step - loss: 1.8608 - head_3_loss: 1.8114 - head_1_sparse_categorical_accuracy: 0.0362 - head_2_sparse_categorical_accuracy: 0.0193 - head_3_sparse_categorical_accuracy: 0.4556 - val_loss: 1.8798 - val_head_3_loss: 1.8302 - val_head_1_sparse_categorical_accuracy: 0.0439 - val_head_2_sparse_categorical_accuracy: 0.0136 - val_head_3_sparse_categorical_accuracy: 0.3894\n",
            "Epoch 13/70\n",
            "109/109 [==============================] - 26s 151ms/step - loss: 1.8578 - head_3_loss: 1.8082 - head_1_sparse_categorical_accuracy: 0.0446 - head_2_sparse_categorical_accuracy: 0.0198 - head_3_sparse_categorical_accuracy: 0.4487 - val_loss: 2.1178 - val_head_3_loss: 2.0681 - val_head_1_sparse_categorical_accuracy: 0.0470 - val_head_2_sparse_categorical_accuracy: 0.0106 - val_head_3_sparse_categorical_accuracy: 0.3545\n",
            "Epoch 14/70\n",
            "109/109 [==============================] - 26s 152ms/step - loss: 1.8161 - head_3_loss: 1.7664 - head_1_sparse_categorical_accuracy: 0.0374 - head_2_sparse_categorical_accuracy: 0.0218 - head_3_sparse_categorical_accuracy: 0.4613 - val_loss: 2.0986 - val_head_3_loss: 2.0487 - val_head_1_sparse_categorical_accuracy: 0.0348 - val_head_2_sparse_categorical_accuracy: 0.0227 - val_head_3_sparse_categorical_accuracy: 0.3606\n",
            "Epoch 15/70\n",
            "109/109 [==============================] - 26s 151ms/step - loss: 1.8119 - head_3_loss: 1.7620 - head_1_sparse_categorical_accuracy: 0.0454 - head_2_sparse_categorical_accuracy: 0.0181 - head_3_sparse_categorical_accuracy: 0.4685 - val_loss: 2.0748 - val_head_3_loss: 2.0245 - val_head_1_sparse_categorical_accuracy: 0.0576 - val_head_2_sparse_categorical_accuracy: 0.0045 - val_head_3_sparse_categorical_accuracy: 0.3879\n",
            "Epoch 16/70\n",
            "109/109 [==============================] - 26s 152ms/step - loss: 1.7827 - head_3_loss: 1.7322 - head_1_sparse_categorical_accuracy: 0.0420 - head_2_sparse_categorical_accuracy: 0.0178 - head_3_sparse_categorical_accuracy: 0.4671 - val_loss: 2.1686 - val_head_3_loss: 2.1178 - val_head_1_sparse_categorical_accuracy: 0.0576 - val_head_2_sparse_categorical_accuracy: 0.0152 - val_head_3_sparse_categorical_accuracy: 0.3879\n",
            "Epoch 17/70\n",
            "109/109 [==============================] - 26s 151ms/step - loss: 1.7540 - head_3_loss: 1.7033 - head_1_sparse_categorical_accuracy: 0.0446 - head_2_sparse_categorical_accuracy: 0.0239 - head_3_sparse_categorical_accuracy: 0.4786 - val_loss: 2.7692 - val_head_3_loss: 2.7183 - val_head_1_sparse_categorical_accuracy: 0.0576 - val_head_2_sparse_categorical_accuracy: 0.0167 - val_head_3_sparse_categorical_accuracy: 0.2606\n",
            "Epoch 18/70\n",
            "109/109 [==============================] - 26s 152ms/step - loss: 1.7444 - head_3_loss: 1.6933 - head_1_sparse_categorical_accuracy: 0.0420 - head_2_sparse_categorical_accuracy: 0.0187 - head_3_sparse_categorical_accuracy: 0.4996 - val_loss: 1.8034 - val_head_3_loss: 1.7522 - val_head_1_sparse_categorical_accuracy: 0.0455 - val_head_2_sparse_categorical_accuracy: 0.0197 - val_head_3_sparse_categorical_accuracy: 0.4470\n",
            "Epoch 19/70\n",
            "109/109 [==============================] - 26s 151ms/step - loss: 1.7325 - head_3_loss: 1.6812 - head_1_sparse_categorical_accuracy: 0.0483 - head_2_sparse_categorical_accuracy: 0.0210 - head_3_sparse_categorical_accuracy: 0.4829 - val_loss: 1.9103 - val_head_3_loss: 1.8588 - val_head_1_sparse_categorical_accuracy: 0.0545 - val_head_2_sparse_categorical_accuracy: 0.0121 - val_head_3_sparse_categorical_accuracy: 0.4273\n",
            "Epoch 20/70\n",
            "109/109 [==============================] - 26s 151ms/step - loss: 1.7025 - head_3_loss: 1.6508 - head_1_sparse_categorical_accuracy: 0.0460 - head_2_sparse_categorical_accuracy: 0.0221 - head_3_sparse_categorical_accuracy: 0.4958 - val_loss: 1.8936 - val_head_3_loss: 1.8417 - val_head_1_sparse_categorical_accuracy: 0.0455 - val_head_2_sparse_categorical_accuracy: 0.0242 - val_head_3_sparse_categorical_accuracy: 0.4470\n",
            "Epoch 21/70\n",
            "109/109 [==============================] - 26s 150ms/step - loss: 1.6701 - head_3_loss: 1.6181 - head_1_sparse_categorical_accuracy: 0.0480 - head_2_sparse_categorical_accuracy: 0.0181 - head_3_sparse_categorical_accuracy: 0.4970 - val_loss: 1.9701 - val_head_3_loss: 1.9180 - val_head_1_sparse_categorical_accuracy: 0.0424 - val_head_2_sparse_categorical_accuracy: 0.0106 - val_head_3_sparse_categorical_accuracy: 0.4303\n",
            "Epoch 22/70\n",
            "109/109 [==============================] - 26s 151ms/step - loss: 1.6639 - head_3_loss: 1.6116 - head_1_sparse_categorical_accuracy: 0.0457 - head_2_sparse_categorical_accuracy: 0.0184 - head_3_sparse_categorical_accuracy: 0.5125 - val_loss: 1.8066 - val_head_3_loss: 1.7542 - val_head_1_sparse_categorical_accuracy: 0.0455 - val_head_2_sparse_categorical_accuracy: 0.0182 - val_head_3_sparse_categorical_accuracy: 0.4591\n",
            "Epoch 23/70\n",
            "109/109 [==============================] - 26s 151ms/step - loss: 1.6553 - head_3_loss: 1.6028 - head_1_sparse_categorical_accuracy: 0.0437 - head_2_sparse_categorical_accuracy: 0.0227 - head_3_sparse_categorical_accuracy: 0.5047 - val_loss: 2.2273 - val_head_3_loss: 2.1745 - val_head_1_sparse_categorical_accuracy: 0.0530 - val_head_2_sparse_categorical_accuracy: 0.0212 - val_head_3_sparse_categorical_accuracy: 0.3561\n",
            "Epoch 24/70\n",
            "109/109 [==============================] - 25s 150ms/step - loss: 1.6510 - head_3_loss: 1.5981 - head_1_sparse_categorical_accuracy: 0.0466 - head_2_sparse_categorical_accuracy: 0.0210 - head_3_sparse_categorical_accuracy: 0.5070 - val_loss: 2.1594 - val_head_3_loss: 2.1067 - val_head_1_sparse_categorical_accuracy: 0.0424 - val_head_2_sparse_categorical_accuracy: 0.0197 - val_head_3_sparse_categorical_accuracy: 0.3955\n",
            "Epoch 25/70\n",
            "109/109 [==============================] - 26s 151ms/step - loss: 1.6450 - head_3_loss: 1.5921 - head_1_sparse_categorical_accuracy: 0.0405 - head_2_sparse_categorical_accuracy: 0.0201 - head_3_sparse_categorical_accuracy: 0.5145 - val_loss: 1.7528 - val_head_3_loss: 1.6997 - val_head_1_sparse_categorical_accuracy: 0.0470 - val_head_2_sparse_categorical_accuracy: 0.0197 - val_head_3_sparse_categorical_accuracy: 0.4788\n",
            "Epoch 26/70\n",
            "109/109 [==============================] - 26s 153ms/step - loss: 1.6268 - head_3_loss: 1.5735 - head_1_sparse_categorical_accuracy: 0.0448 - head_2_sparse_categorical_accuracy: 0.0207 - head_3_sparse_categorical_accuracy: 0.5208 - val_loss: 2.0286 - val_head_3_loss: 1.9752 - val_head_1_sparse_categorical_accuracy: 0.0394 - val_head_2_sparse_categorical_accuracy: 0.0182 - val_head_3_sparse_categorical_accuracy: 0.4015\n",
            "Epoch 27/70\n",
            "109/109 [==============================] - 26s 154ms/step - loss: 1.6026 - head_3_loss: 1.5491 - head_1_sparse_categorical_accuracy: 0.0428 - head_2_sparse_categorical_accuracy: 0.0221 - head_3_sparse_categorical_accuracy: 0.5223 - val_loss: 1.7499 - val_head_3_loss: 1.6964 - val_head_1_sparse_categorical_accuracy: 0.0500 - val_head_2_sparse_categorical_accuracy: 0.0197 - val_head_3_sparse_categorical_accuracy: 0.4803\n",
            "Epoch 28/70\n",
            "109/109 [==============================] - 26s 154ms/step - loss: 1.5861 - head_3_loss: 1.5324 - head_1_sparse_categorical_accuracy: 0.0480 - head_2_sparse_categorical_accuracy: 0.0210 - head_3_sparse_categorical_accuracy: 0.5286 - val_loss: 2.4264 - val_head_3_loss: 2.3725 - val_head_1_sparse_categorical_accuracy: 0.0288 - val_head_2_sparse_categorical_accuracy: 0.0318 - val_head_3_sparse_categorical_accuracy: 0.3773\n",
            "Epoch 29/70\n",
            "109/109 [==============================] - 26s 152ms/step - loss: 1.6199 - head_3_loss: 1.5658 - head_1_sparse_categorical_accuracy: 0.0440 - head_2_sparse_categorical_accuracy: 0.0201 - head_3_sparse_categorical_accuracy: 0.5203 - val_loss: 1.7456 - val_head_3_loss: 1.6912 - val_head_1_sparse_categorical_accuracy: 0.0409 - val_head_2_sparse_categorical_accuracy: 0.0152 - val_head_3_sparse_categorical_accuracy: 0.4742\n",
            "Epoch 30/70\n",
            "109/109 [==============================] - 26s 153ms/step - loss: 1.5860 - head_3_loss: 1.5315 - head_1_sparse_categorical_accuracy: 0.0443 - head_2_sparse_categorical_accuracy: 0.0181 - head_3_sparse_categorical_accuracy: 0.5320 - val_loss: 1.8196 - val_head_3_loss: 1.7650 - val_head_1_sparse_categorical_accuracy: 0.0621 - val_head_2_sparse_categorical_accuracy: 0.0197 - val_head_3_sparse_categorical_accuracy: 0.4212\n",
            "Epoch 31/70\n",
            "109/109 [==============================] - 26s 151ms/step - loss: 1.5625 - head_3_loss: 1.5078 - head_1_sparse_categorical_accuracy: 0.0405 - head_2_sparse_categorical_accuracy: 0.0230 - head_3_sparse_categorical_accuracy: 0.5263 - val_loss: 1.9372 - val_head_3_loss: 1.8823 - val_head_1_sparse_categorical_accuracy: 0.0409 - val_head_2_sparse_categorical_accuracy: 0.0242 - val_head_3_sparse_categorical_accuracy: 0.4167\n",
            "Epoch 32/70\n",
            "109/109 [==============================] - 26s 153ms/step - loss: 1.5549 - head_3_loss: 1.5001 - head_1_sparse_categorical_accuracy: 0.0471 - head_2_sparse_categorical_accuracy: 0.0181 - head_3_sparse_categorical_accuracy: 0.5438 - val_loss: 1.8266 - val_head_3_loss: 1.7717 - val_head_1_sparse_categorical_accuracy: 0.0500 - val_head_2_sparse_categorical_accuracy: 0.0076 - val_head_3_sparse_categorical_accuracy: 0.4682\n",
            "Epoch 33/70\n",
            "109/109 [==============================] - 26s 151ms/step - loss: 1.5687 - head_3_loss: 1.5135 - head_1_sparse_categorical_accuracy: 0.0483 - head_2_sparse_categorical_accuracy: 0.0144 - head_3_sparse_categorical_accuracy: 0.5303 - val_loss: 2.1570 - val_head_3_loss: 2.1017 - val_head_1_sparse_categorical_accuracy: 0.0455 - val_head_2_sparse_categorical_accuracy: 0.0303 - val_head_3_sparse_categorical_accuracy: 0.3591\n",
            "Epoch 34/70\n",
            "109/109 [==============================] - 26s 153ms/step - loss: 1.5406 - head_3_loss: 1.4850 - head_1_sparse_categorical_accuracy: 0.0423 - head_2_sparse_categorical_accuracy: 0.0216 - head_3_sparse_categorical_accuracy: 0.5352 - val_loss: 1.6835 - val_head_3_loss: 1.6277 - val_head_1_sparse_categorical_accuracy: 0.0485 - val_head_2_sparse_categorical_accuracy: 0.0136 - val_head_3_sparse_categorical_accuracy: 0.5030\n",
            "Epoch 35/70\n",
            "109/109 [==============================] - 26s 152ms/step - loss: 1.5235 - head_3_loss: 1.4676 - head_1_sparse_categorical_accuracy: 0.0463 - head_2_sparse_categorical_accuracy: 0.0172 - head_3_sparse_categorical_accuracy: 0.5496 - val_loss: 2.1595 - val_head_3_loss: 2.1034 - val_head_1_sparse_categorical_accuracy: 0.0439 - val_head_2_sparse_categorical_accuracy: 0.0212 - val_head_3_sparse_categorical_accuracy: 0.3803\n",
            "Epoch 36/70\n",
            "109/109 [==============================] - 26s 153ms/step - loss: 1.5374 - head_3_loss: 1.4811 - head_1_sparse_categorical_accuracy: 0.0538 - head_2_sparse_categorical_accuracy: 0.0193 - head_3_sparse_categorical_accuracy: 0.5401 - val_loss: 1.7722 - val_head_3_loss: 1.7156 - val_head_1_sparse_categorical_accuracy: 0.0424 - val_head_2_sparse_categorical_accuracy: 0.0076 - val_head_3_sparse_categorical_accuracy: 0.4758\n",
            "Epoch 37/70\n",
            "109/109 [==============================] - 26s 153ms/step - loss: 1.4772 - head_3_loss: 1.4206 - head_1_sparse_categorical_accuracy: 0.0446 - head_2_sparse_categorical_accuracy: 0.0184 - head_3_sparse_categorical_accuracy: 0.5648 - val_loss: 4.4797 - val_head_3_loss: 4.4231 - val_head_1_sparse_categorical_accuracy: 0.0500 - val_head_2_sparse_categorical_accuracy: 0.0455 - val_head_3_sparse_categorical_accuracy: 0.2015\n",
            "Epoch 38/70\n",
            "109/109 [==============================] - 26s 153ms/step - loss: 1.5279 - head_3_loss: 1.4711 - head_1_sparse_categorical_accuracy: 0.0469 - head_2_sparse_categorical_accuracy: 0.0230 - head_3_sparse_categorical_accuracy: 0.5441 - val_loss: 1.8677 - val_head_3_loss: 1.8108 - val_head_1_sparse_categorical_accuracy: 0.0364 - val_head_2_sparse_categorical_accuracy: 0.0091 - val_head_3_sparse_categorical_accuracy: 0.4394\n",
            "Epoch 39/70\n",
            "109/109 [==============================] - 26s 154ms/step - loss: 1.5010 - head_3_loss: 1.4441 - head_1_sparse_categorical_accuracy: 0.0417 - head_2_sparse_categorical_accuracy: 0.0227 - head_3_sparse_categorical_accuracy: 0.5490 - val_loss: 3.1985 - val_head_3_loss: 3.1415 - val_head_1_sparse_categorical_accuracy: 0.0227 - val_head_2_sparse_categorical_accuracy: 0.0364 - val_head_3_sparse_categorical_accuracy: 0.3015\n",
            "Epoch 40/70\n",
            "109/109 [==============================] - 26s 154ms/step - loss: 1.4611 - head_3_loss: 1.4041 - head_1_sparse_categorical_accuracy: 0.0443 - head_2_sparse_categorical_accuracy: 0.0184 - head_3_sparse_categorical_accuracy: 0.5556 - val_loss: 1.7997 - val_head_3_loss: 1.7425 - val_head_1_sparse_categorical_accuracy: 0.0303 - val_head_2_sparse_categorical_accuracy: 0.0242 - val_head_3_sparse_categorical_accuracy: 0.4727\n",
            "Epoch 41/70\n",
            "109/109 [==============================] - 26s 153ms/step - loss: 1.4749 - head_3_loss: 1.4178 - head_1_sparse_categorical_accuracy: 0.0446 - head_2_sparse_categorical_accuracy: 0.0218 - head_3_sparse_categorical_accuracy: 0.5522 - val_loss: 2.0216 - val_head_3_loss: 1.9645 - val_head_1_sparse_categorical_accuracy: 0.0470 - val_head_2_sparse_categorical_accuracy: 0.0182 - val_head_3_sparse_categorical_accuracy: 0.4455\n",
            "Epoch 42/70\n",
            "109/109 [==============================] - 26s 152ms/step - loss: 1.4835 - head_3_loss: 1.4260 - head_1_sparse_categorical_accuracy: 0.0434 - head_2_sparse_categorical_accuracy: 0.0195 - head_3_sparse_categorical_accuracy: 0.5553 - val_loss: 1.8771 - val_head_3_loss: 1.8194 - val_head_1_sparse_categorical_accuracy: 0.0485 - val_head_2_sparse_categorical_accuracy: 0.0152 - val_head_3_sparse_categorical_accuracy: 0.4652\n",
            "Epoch 43/70\n",
            "109/109 [==============================] - 26s 152ms/step - loss: 1.4452 - head_3_loss: 1.3877 - head_1_sparse_categorical_accuracy: 0.0463 - head_2_sparse_categorical_accuracy: 0.0184 - head_3_sparse_categorical_accuracy: 0.5599 - val_loss: 2.1426 - val_head_3_loss: 2.0849 - val_head_1_sparse_categorical_accuracy: 0.0561 - val_head_2_sparse_categorical_accuracy: 0.0212 - val_head_3_sparse_categorical_accuracy: 0.4061\n",
            "Epoch 44/70\n",
            "109/109 [==============================] - 26s 153ms/step - loss: 1.4831 - head_3_loss: 1.4252 - head_1_sparse_categorical_accuracy: 0.0420 - head_2_sparse_categorical_accuracy: 0.0210 - head_3_sparse_categorical_accuracy: 0.5565 - val_loss: 2.0039 - val_head_3_loss: 1.9458 - val_head_1_sparse_categorical_accuracy: 0.0409 - val_head_2_sparse_categorical_accuracy: 0.0136 - val_head_3_sparse_categorical_accuracy: 0.4470\n",
            "Epoch 45/70\n",
            "109/109 [==============================] - 26s 153ms/step - loss: 1.4295 - head_3_loss: 1.3712 - head_1_sparse_categorical_accuracy: 0.0405 - head_2_sparse_categorical_accuracy: 0.0184 - head_3_sparse_categorical_accuracy: 0.5714 - val_loss: 2.2873 - val_head_3_loss: 2.2287 - val_head_1_sparse_categorical_accuracy: 0.0348 - val_head_2_sparse_categorical_accuracy: 0.0227 - val_head_3_sparse_categorical_accuracy: 0.3833\n",
            "Epoch 46/70\n",
            "109/109 [==============================] - 27s 156ms/step - loss: 1.4502 - head_3_loss: 1.3916 - head_1_sparse_categorical_accuracy: 0.0405 - head_2_sparse_categorical_accuracy: 0.0221 - head_3_sparse_categorical_accuracy: 0.5628 - val_loss: 3.1881 - val_head_3_loss: 3.1294 - val_head_1_sparse_categorical_accuracy: 0.0424 - val_head_2_sparse_categorical_accuracy: 0.0288 - val_head_3_sparse_categorical_accuracy: 0.3242\n",
            "Epoch 47/70\n",
            "109/109 [==============================] - 26s 154ms/step - loss: 1.4707 - head_3_loss: 1.4119 - head_1_sparse_categorical_accuracy: 0.0451 - head_2_sparse_categorical_accuracy: 0.0218 - head_3_sparse_categorical_accuracy: 0.5594 - val_loss: 1.7520 - val_head_3_loss: 1.6931 - val_head_1_sparse_categorical_accuracy: 0.0379 - val_head_2_sparse_categorical_accuracy: 0.0182 - val_head_3_sparse_categorical_accuracy: 0.4803\n",
            "Epoch 48/70\n",
            "109/109 [==============================] - 26s 153ms/step - loss: 1.4094 - head_3_loss: 1.3503 - head_1_sparse_categorical_accuracy: 0.0420 - head_2_sparse_categorical_accuracy: 0.0184 - head_3_sparse_categorical_accuracy: 0.5812 - val_loss: 2.2602 - val_head_3_loss: 2.2009 - val_head_1_sparse_categorical_accuracy: 0.0212 - val_head_2_sparse_categorical_accuracy: 0.0167 - val_head_3_sparse_categorical_accuracy: 0.3833\n",
            "Epoch 49/70\n",
            "109/109 [==============================] - 26s 153ms/step - loss: 1.4367 - head_3_loss: 1.3774 - head_1_sparse_categorical_accuracy: 0.0420 - head_2_sparse_categorical_accuracy: 0.0224 - head_3_sparse_categorical_accuracy: 0.5680 - val_loss: 1.6906 - val_head_3_loss: 1.6312 - val_head_1_sparse_categorical_accuracy: 0.0576 - val_head_2_sparse_categorical_accuracy: 0.0212 - val_head_3_sparse_categorical_accuracy: 0.4955\n",
            "Epoch 50/70\n",
            "109/109 [==============================] - 26s 153ms/step - loss: 1.3762 - head_3_loss: 1.3167 - head_1_sparse_categorical_accuracy: 0.0469 - head_2_sparse_categorical_accuracy: 0.0201 - head_3_sparse_categorical_accuracy: 0.5867 - val_loss: 3.7491 - val_head_3_loss: 3.6895 - val_head_1_sparse_categorical_accuracy: 0.0364 - val_head_2_sparse_categorical_accuracy: 0.0182 - val_head_3_sparse_categorical_accuracy: 0.2530\n",
            "Epoch 51/70\n",
            "109/109 [==============================] - 26s 152ms/step - loss: 1.3884 - head_3_loss: 1.3287 - head_1_sparse_categorical_accuracy: 0.0494 - head_2_sparse_categorical_accuracy: 0.0172 - head_3_sparse_categorical_accuracy: 0.5818 - val_loss: 1.9036 - val_head_3_loss: 1.8439 - val_head_1_sparse_categorical_accuracy: 0.0485 - val_head_2_sparse_categorical_accuracy: 0.0242 - val_head_3_sparse_categorical_accuracy: 0.4485\n",
            "Epoch 52/70\n",
            "109/109 [==============================] - 26s 153ms/step - loss: 1.3922 - head_3_loss: 1.3324 - head_1_sparse_categorical_accuracy: 0.0457 - head_2_sparse_categorical_accuracy: 0.0218 - head_3_sparse_categorical_accuracy: 0.5749 - val_loss: 1.9733 - val_head_3_loss: 1.9133 - val_head_1_sparse_categorical_accuracy: 0.0530 - val_head_2_sparse_categorical_accuracy: 0.0167 - val_head_3_sparse_categorical_accuracy: 0.4409\n",
            "Epoch 53/70\n",
            "109/109 [==============================] - 26s 154ms/step - loss: 1.3913 - head_3_loss: 1.3313 - head_1_sparse_categorical_accuracy: 0.0434 - head_2_sparse_categorical_accuracy: 0.0204 - head_3_sparse_categorical_accuracy: 0.5766 - val_loss: 1.8240 - val_head_3_loss: 1.7637 - val_head_1_sparse_categorical_accuracy: 0.0258 - val_head_2_sparse_categorical_accuracy: 0.0318 - val_head_3_sparse_categorical_accuracy: 0.4788\n",
            "Epoch 54/70\n",
            "109/109 [==============================] - 26s 153ms/step - loss: 1.4100 - head_3_loss: 1.3496 - head_1_sparse_categorical_accuracy: 0.0446 - head_2_sparse_categorical_accuracy: 0.0230 - head_3_sparse_categorical_accuracy: 0.5783 - val_loss: 1.8628 - val_head_3_loss: 1.8022 - val_head_1_sparse_categorical_accuracy: 0.0197 - val_head_2_sparse_categorical_accuracy: 0.0182 - val_head_3_sparse_categorical_accuracy: 0.4515\n",
            "Epoch 55/70\n",
            "109/109 [==============================] - 26s 153ms/step - loss: 1.3511 - head_3_loss: 1.2905 - head_1_sparse_categorical_accuracy: 0.0423 - head_2_sparse_categorical_accuracy: 0.0213 - head_3_sparse_categorical_accuracy: 0.6033 - val_loss: 1.9884 - val_head_3_loss: 1.9277 - val_head_1_sparse_categorical_accuracy: 0.0424 - val_head_2_sparse_categorical_accuracy: 0.0106 - val_head_3_sparse_categorical_accuracy: 0.4409\n",
            "Epoch 56/70\n",
            "109/109 [==============================] - 26s 153ms/step - loss: 1.3725 - head_3_loss: 1.3118 - head_1_sparse_categorical_accuracy: 0.0437 - head_2_sparse_categorical_accuracy: 0.0216 - head_3_sparse_categorical_accuracy: 0.5864 - val_loss: 2.1887 - val_head_3_loss: 2.1280 - val_head_1_sparse_categorical_accuracy: 0.0500 - val_head_2_sparse_categorical_accuracy: 0.0152 - val_head_3_sparse_categorical_accuracy: 0.4212\n",
            "Epoch 57/70\n",
            "109/109 [==============================] - ETA: 0s - loss: 1.3796 - head_3_loss: 1.3186 - head_1_sparse_categorical_accuracy: 0.0431 - head_2_sparse_categorical_accuracy: 0.0184 - head_3_sparse_categorical_accuracy: 0.5938Restoring model weights from the end of the best epoch: 34.\n",
            "109/109 [==============================] - 26s 153ms/step - loss: 1.3796 - head_3_loss: 1.3186 - head_1_sparse_categorical_accuracy: 0.0431 - head_2_sparse_categorical_accuracy: 0.0184 - head_3_sparse_categorical_accuracy: 0.5938 - val_loss: 2.5876 - val_head_3_loss: 2.5266 - val_head_1_sparse_categorical_accuracy: 0.0227 - val_head_2_sparse_categorical_accuracy: 0.0212 - val_head_3_sparse_categorical_accuracy: 0.3667\n",
            "Epoch 57: early stopping\n"
          ]
        },
        {
          "output_type": "execute_result",
          "data": {
            "text/plain": [
              "<keras.callbacks.History at 0x7f1f1da6d650>"
            ]
          },
          "metadata": {},
          "execution_count": 31
        }
      ],
      "source": [
        "model1.fit(  \n",
        "    df_train_task3,\n",
        "    epochs=70,\n",
        "    validation_data=df_val_task3,\n",
        "    callbacks=cbs4\n",
        ")"
      ]
    },
    {
      "cell_type": "code",
      "execution_count": null,
      "metadata": {
        "colab": {
          "base_uri": "https://localhost:8080/"
        },
        "id": "w8NW-WQMUw6m",
        "outputId": "71412571-8256-4dc9-e171-55403458db06"
      },
      "outputs": [
        {
          "output_type": "stream",
          "name": "stdout",
          "text": [
            "21/21 [==============================] - 3s 86ms/step - loss: 5.9934 - head_3_loss: 5.9376 - head_1_sparse_categorical_accuracy: 0.1621 - head_2_sparse_categorical_accuracy: 0.0273 - head_3_sparse_categorical_accuracy: 0.0455\n"
          ]
        },
        {
          "output_type": "execute_result",
          "data": {
            "text/plain": [
              "[5.993390083312988,\n",
              " 5.9375715255737305,\n",
              " 0.16212120652198792,\n",
              " 0.027272727340459824,\n",
              " 0.04545454680919647]"
            ]
          },
          "metadata": {},
          "execution_count": 32
        }
      ],
      "source": [
        "model1.evaluate(df_test_task1)"
      ]
    },
    {
      "cell_type": "code",
      "execution_count": null,
      "metadata": {
        "colab": {
          "base_uri": "https://localhost:8080/"
        },
        "id": "DUxPzDmKUyJ3",
        "outputId": "5344bd00-7b7e-416e-8784-de556c79a4f8"
      },
      "outputs": [
        {
          "output_type": "stream",
          "name": "stdout",
          "text": [
            "21/21 [==============================] - 3s 91ms/step - loss: 6.3500 - head_3_loss: 6.2942 - head_1_sparse_categorical_accuracy: 0.0303 - head_2_sparse_categorical_accuracy: 0.2106 - head_3_sparse_categorical_accuracy: 0.0242\n"
          ]
        },
        {
          "output_type": "execute_result",
          "data": {
            "text/plain": [
              "[6.3499956130981445,\n",
              " 6.294177055358887,\n",
              " 0.03030303120613098,\n",
              " 0.21060605347156525,\n",
              " 0.024242423474788666]"
            ]
          },
          "metadata": {},
          "execution_count": 33
        }
      ],
      "source": [
        "model1.evaluate(df_test_task2)"
      ]
    },
    {
      "cell_type": "code",
      "execution_count": null,
      "metadata": {
        "colab": {
          "base_uri": "https://localhost:8080/"
        },
        "id": "eYIsiLvZUyNP",
        "outputId": "9ab0d555-1bcc-496e-fe45-08947fc223a7"
      },
      "outputs": [
        {
          "output_type": "stream",
          "name": "stdout",
          "text": [
            "21/21 [==============================] - 3s 86ms/step - loss: 1.8437 - head_3_loss: 1.7879 - head_1_sparse_categorical_accuracy: 0.0424 - head_2_sparse_categorical_accuracy: 0.0318 - head_3_sparse_categorical_accuracy: 0.4803\n"
          ]
        },
        {
          "output_type": "execute_result",
          "data": {
            "text/plain": [
              "[1.8437355756759644,\n",
              " 1.7879170179367065,\n",
              " 0.042424242943525314,\n",
              " 0.03181818127632141,\n",
              " 0.480303019285202]"
            ]
          },
          "metadata": {},
          "execution_count": 34
        }
      ],
      "source": [
        "model1.evaluate(df_test_task3)"
      ]
    },
    {
      "cell_type": "code",
      "source": [
        ""
      ],
      "metadata": {
        "id": "O-RIDJmaOlGO"
      },
      "execution_count": null,
      "outputs": []
    },
    {
      "cell_type": "markdown",
      "source": [
        "**Accuracy on task1**: 0.16\n",
        "\n",
        "**Accuracy on task2**: 0.21\n",
        "\n",
        "**Accuracy on task3**: 0.48"
      ],
      "metadata": {
        "id": "boi5wNQwOowe"
      }
    },
    {
      "cell_type": "code",
      "execution_count": null,
      "metadata": {
        "colab": {
          "base_uri": "https://localhost:8080/"
        },
        "id": "-wWh3vNDWKJC",
        "outputId": "7bdd147f-b40a-4367-d658-7f3b1358202a"
      },
      "outputs": [
        {
          "output_type": "stream",
          "name": "stdout",
          "text": [
            "21/21 [==============================] - 4s 121ms/step - loss: 5.9934 - head_3_loss: 5.9376 - head_1_sparse_categorical_accuracy: 0.1621 - head_2_sparse_categorical_accuracy: 0.0273 - head_3_sparse_categorical_accuracy: 0.0455\n",
            "21/21 [==============================] - 4s 120ms/step - loss: 6.3500 - head_3_loss: 6.2942 - head_1_sparse_categorical_accuracy: 0.0303 - head_2_sparse_categorical_accuracy: 0.2106 - head_3_sparse_categorical_accuracy: 0.0242\n",
            "21/21 [==============================] - 3s 109ms/step - loss: 1.8437 - head_3_loss: 1.7879 - head_1_sparse_categorical_accuracy: 0.0424 - head_2_sparse_categorical_accuracy: 0.0318 - head_3_sparse_categorical_accuracy: 0.4803\n"
          ]
        }
      ],
      "source": [
        "#Let's update matrix - R\n",
        "\n",
        "R[0][2] = model1.evaluate(df_test_task1)[2]\n",
        "R[1][2] = model1.evaluate(df_test_task2)[3]\n",
        "R[2][2] = model1.evaluate(df_test_task3)[4]"
      ]
    },
    {
      "cell_type": "code",
      "execution_count": null,
      "metadata": {
        "colab": {
          "base_uri": "https://localhost:8080/"
        },
        "id": "JLFFmCODWQYH",
        "outputId": "48ba49e1-03ca-44bc-f023-6beb56fcf434"
      },
      "outputs": [
        {
          "output_type": "stream",
          "name": "stdout",
          "text": [
            "[[0.40151516 0.23484848 0.16212121]\n",
            " [0.02727273 0.43636364 0.21060605]\n",
            " [0.03636364 0.03636364 0.48030302]]\n"
          ]
        }
      ],
      "source": [
        "print(R)"
      ]
    },
    {
      "cell_type": "markdown",
      "metadata": {
        "id": "d4q9FU-bWcVt"
      },
      "source": [
        "#### BackwardTransfer and GlobalAccuracy\n",
        "\n",
        "Now we can use some metrics to evaluate our Continual Learning Model"
      ]
    },
    {
      "cell_type": "code",
      "execution_count": null,
      "metadata": {
        "colab": {
          "base_uri": "https://localhost:8080/"
        },
        "id": "mQ8Y56ERWzWt",
        "outputId": "af87c803-9b50-418f-8389-ac4c135663a4"
      },
      "outputs": [
        {
          "output_type": "stream",
          "name": "stdout",
          "text": [
            "this is the Global accuracy:  0.321\n"
          ]
        }
      ],
      "source": [
        "#GlobalAccuracy from matrix R\n",
        "\n",
        "global_accuracy = 0\n",
        "for i in range(0,3):\n",
        "  for j in range(0,3):\n",
        "    if i <= j:\n",
        "      global_accuracy = global_accuracy + R[i][j]\n",
        "\n",
        "global_accuracy = global_accuracy/ (0.5*n_tasks*(n_tasks+1))\n",
        "print('this is the Global accuracy: ' , round(global_accuracy,3))"
      ]
    },
    {
      "cell_type": "code",
      "execution_count": null,
      "metadata": {
        "colab": {
          "base_uri": "https://localhost:8080/"
        },
        "id": "vjFnk2LR2-CG",
        "outputId": "f08f50fa-95a9-4563-bd67-127d07fa0107"
      },
      "outputs": [
        {
          "output_type": "stream",
          "name": "stdout",
          "text": [
            "this is the Backward Transfer:  -0.155\n"
          ]
        }
      ],
      "source": [
        "# Backward_transfer from matrix R\n",
        "\n",
        "backward_transfer = 0\n",
        "for i in range(0,3):\n",
        "  for j in range(0,3):\n",
        "    if (i < j) & (j >= 2):\n",
        "      backward_transfer = backward_transfer + (R[i][j] - R[i][i])\n",
        "\n",
        "backward_transfer = backward_transfer/(0.5*n_tasks*(n_tasks - 1))\n",
        "print('this is the Backward Transfer: ' , round(backward_transfer,3))"
      ]
    },
    {
      "cell_type": "code",
      "source": [
        ""
      ],
      "metadata": {
        "id": "U9lm-Q7anFE0"
      },
      "execution_count": null,
      "outputs": []
    }
  ],
  "metadata": {
    "accelerator": "GPU",
    "colab": {
      "collapsed_sections": [],
      "name": "Sport_imgs_Classification_CL.ipynb",
      "provenance": []
    },
    "kernelspec": {
      "display_name": "Python 3",
      "name": "python3"
    }
  },
  "nbformat": 4,
  "nbformat_minor": 0
}